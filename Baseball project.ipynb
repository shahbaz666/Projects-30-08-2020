{
 "cells": [
  {
   "cell_type": "code",
   "execution_count": 1,
   "metadata": {},
   "outputs": [],
   "source": [
    "import pandas as pd\n",
    "import numpy as np\n",
    "import seaborn as sns\n",
    "import matplotlib.pyplot as plt\n",
    "%matplotlib inline\n",
    "import warnings\n",
    "warnings.filterwarnings('ignore')"
   ]
  },
  {
   "cell_type": "markdown",
   "metadata": {},
   "source": [
    "# Dataset Description"
   ]
  },
  {
   "cell_type": "markdown",
   "metadata": {},
   "source": [
    "The dataset contains number of wins for a given team in the 2014 Major League Baseball seasons along with the features of game of Baseball on which the number of wins is supposed to depend. A machine learning model can be prepared from the dataset to pedict the number of wins for a given team in the 2015 Major League Baseball seasons."
   ]
  },
  {
   "cell_type": "markdown",
   "metadata": {},
   "source": [
    "# Features Description"
   ]
  },
  {
   "cell_type": "markdown",
   "metadata": {},
   "source": [
    "Input features: Runs, At Bats, Hits, Doubles, Triples, Homeruns, Walks, Strikeouts,Stolen Bases, Runs Allowed, Earned Runs, Earned Run Average (ERA),Complete Games, Shutouts, Saves, and Errors"
   ]
  },
  {
   "cell_type": "markdown",
   "metadata": {},
   "source": [
    "Output: Number of predicted wins (W)"
   ]
  },
  {
   "cell_type": "code",
   "execution_count": 2,
   "metadata": {},
   "outputs": [
    {
     "data": {
      "text/html": [
       "<div>\n",
       "<style scoped>\n",
       "    .dataframe tbody tr th:only-of-type {\n",
       "        vertical-align: middle;\n",
       "    }\n",
       "\n",
       "    .dataframe tbody tr th {\n",
       "        vertical-align: top;\n",
       "    }\n",
       "\n",
       "    .dataframe thead th {\n",
       "        text-align: right;\n",
       "    }\n",
       "</style>\n",
       "<table border=\"1\" class=\"dataframe\">\n",
       "  <thead>\n",
       "    <tr style=\"text-align: right;\">\n",
       "      <th></th>\n",
       "      <th>W</th>\n",
       "      <th>R</th>\n",
       "      <th>AB</th>\n",
       "      <th>H</th>\n",
       "      <th>2B</th>\n",
       "      <th>3B</th>\n",
       "      <th>HR</th>\n",
       "      <th>BB</th>\n",
       "      <th>SO</th>\n",
       "      <th>SB</th>\n",
       "      <th>RA</th>\n",
       "      <th>ER</th>\n",
       "      <th>ERA</th>\n",
       "      <th>CG</th>\n",
       "      <th>SHO</th>\n",
       "      <th>SV</th>\n",
       "      <th>E</th>\n",
       "    </tr>\n",
       "  </thead>\n",
       "  <tbody>\n",
       "    <tr>\n",
       "      <th>0</th>\n",
       "      <td>95</td>\n",
       "      <td>724</td>\n",
       "      <td>5575</td>\n",
       "      <td>1497</td>\n",
       "      <td>300</td>\n",
       "      <td>42</td>\n",
       "      <td>139</td>\n",
       "      <td>383</td>\n",
       "      <td>973</td>\n",
       "      <td>104</td>\n",
       "      <td>641</td>\n",
       "      <td>601</td>\n",
       "      <td>3.73</td>\n",
       "      <td>2</td>\n",
       "      <td>8</td>\n",
       "      <td>56</td>\n",
       "      <td>88</td>\n",
       "    </tr>\n",
       "    <tr>\n",
       "      <th>1</th>\n",
       "      <td>83</td>\n",
       "      <td>696</td>\n",
       "      <td>5467</td>\n",
       "      <td>1349</td>\n",
       "      <td>277</td>\n",
       "      <td>44</td>\n",
       "      <td>156</td>\n",
       "      <td>439</td>\n",
       "      <td>1264</td>\n",
       "      <td>70</td>\n",
       "      <td>700</td>\n",
       "      <td>653</td>\n",
       "      <td>4.07</td>\n",
       "      <td>2</td>\n",
       "      <td>12</td>\n",
       "      <td>45</td>\n",
       "      <td>86</td>\n",
       "    </tr>\n",
       "    <tr>\n",
       "      <th>2</th>\n",
       "      <td>81</td>\n",
       "      <td>669</td>\n",
       "      <td>5439</td>\n",
       "      <td>1395</td>\n",
       "      <td>303</td>\n",
       "      <td>29</td>\n",
       "      <td>141</td>\n",
       "      <td>533</td>\n",
       "      <td>1157</td>\n",
       "      <td>86</td>\n",
       "      <td>640</td>\n",
       "      <td>584</td>\n",
       "      <td>3.67</td>\n",
       "      <td>11</td>\n",
       "      <td>10</td>\n",
       "      <td>38</td>\n",
       "      <td>79</td>\n",
       "    </tr>\n",
       "    <tr>\n",
       "      <th>3</th>\n",
       "      <td>76</td>\n",
       "      <td>622</td>\n",
       "      <td>5533</td>\n",
       "      <td>1381</td>\n",
       "      <td>260</td>\n",
       "      <td>27</td>\n",
       "      <td>136</td>\n",
       "      <td>404</td>\n",
       "      <td>1231</td>\n",
       "      <td>68</td>\n",
       "      <td>701</td>\n",
       "      <td>643</td>\n",
       "      <td>3.98</td>\n",
       "      <td>7</td>\n",
       "      <td>9</td>\n",
       "      <td>37</td>\n",
       "      <td>101</td>\n",
       "    </tr>\n",
       "    <tr>\n",
       "      <th>4</th>\n",
       "      <td>74</td>\n",
       "      <td>689</td>\n",
       "      <td>5605</td>\n",
       "      <td>1515</td>\n",
       "      <td>289</td>\n",
       "      <td>49</td>\n",
       "      <td>151</td>\n",
       "      <td>455</td>\n",
       "      <td>1259</td>\n",
       "      <td>83</td>\n",
       "      <td>803</td>\n",
       "      <td>746</td>\n",
       "      <td>4.64</td>\n",
       "      <td>7</td>\n",
       "      <td>12</td>\n",
       "      <td>35</td>\n",
       "      <td>86</td>\n",
       "    </tr>\n",
       "  </tbody>\n",
       "</table>\n",
       "</div>"
      ],
      "text/plain": [
       "    W    R    AB     H   2B  3B   HR   BB    SO   SB   RA   ER   ERA  CG  SHO  \\\n",
       "0  95  724  5575  1497  300  42  139  383   973  104  641  601  3.73   2    8   \n",
       "1  83  696  5467  1349  277  44  156  439  1264   70  700  653  4.07   2   12   \n",
       "2  81  669  5439  1395  303  29  141  533  1157   86  640  584  3.67  11   10   \n",
       "3  76  622  5533  1381  260  27  136  404  1231   68  701  643  3.98   7    9   \n",
       "4  74  689  5605  1515  289  49  151  455  1259   83  803  746  4.64   7   12   \n",
       "\n",
       "   SV    E  \n",
       "0  56   88  \n",
       "1  45   86  \n",
       "2  38   79  \n",
       "3  37  101  \n",
       "4  35   86  "
      ]
     },
     "execution_count": 2,
     "metadata": {},
     "output_type": "execute_result"
    }
   ],
   "source": [
    "df = pd.read_csv(\"baseball.csv\")\n",
    "df.head()"
   ]
  },
  {
   "cell_type": "code",
   "execution_count": 3,
   "metadata": {},
   "outputs": [
    {
     "data": {
      "text/plain": [
       "(30, 17)"
      ]
     },
     "execution_count": 3,
     "metadata": {},
     "output_type": "execute_result"
    }
   ],
   "source": [
    "df.shape"
   ]
  },
  {
   "cell_type": "code",
   "execution_count": 4,
   "metadata": {},
   "outputs": [
    {
     "name": "stdout",
     "output_type": "stream",
     "text": [
      "<class 'pandas.core.frame.DataFrame'>\n",
      "RangeIndex: 30 entries, 0 to 29\n",
      "Data columns (total 17 columns):\n",
      " #   Column  Non-Null Count  Dtype  \n",
      "---  ------  --------------  -----  \n",
      " 0   W       30 non-null     int64  \n",
      " 1   R       30 non-null     int64  \n",
      " 2   AB      30 non-null     int64  \n",
      " 3   H       30 non-null     int64  \n",
      " 4   2B      30 non-null     int64  \n",
      " 5   3B      30 non-null     int64  \n",
      " 6   HR      30 non-null     int64  \n",
      " 7   BB      30 non-null     int64  \n",
      " 8   SO      30 non-null     int64  \n",
      " 9   SB      30 non-null     int64  \n",
      " 10  RA      30 non-null     int64  \n",
      " 11  ER      30 non-null     int64  \n",
      " 12  ERA     30 non-null     float64\n",
      " 13  CG      30 non-null     int64  \n",
      " 14  SHO     30 non-null     int64  \n",
      " 15  SV      30 non-null     int64  \n",
      " 16  E       30 non-null     int64  \n",
      "dtypes: float64(1), int64(16)\n",
      "memory usage: 4.1 KB\n"
     ]
    }
   ],
   "source": [
    "df.info()"
   ]
  },
  {
   "cell_type": "markdown",
   "metadata": {},
   "source": [
    "Let's replace the acronyms from the feature names"
   ]
  },
  {
   "cell_type": "code",
   "execution_count": 5,
   "metadata": {},
   "outputs": [
    {
     "data": {
      "text/plain": [
       "{'W': 'Wins',\n",
       " 'R': 'Runs',\n",
       " 'AB': 'At Bats',\n",
       " 'H': 'Hits',\n",
       " '2B': 'Doubles',\n",
       " '3B': 'Triples',\n",
       " 'HR': 'Homeruns',\n",
       " 'BB': 'Walks',\n",
       " 'SO': 'Strikeouts',\n",
       " 'SB': 'Stolen Bases',\n",
       " 'RA': 'Runs Allowed',\n",
       " 'ER': 'Earned Runs',\n",
       " 'ERA': 'Earned Run Average',\n",
       " 'CG': 'Complete Games',\n",
       " 'SHO': 'Shutouts',\n",
       " 'SV': 'Saves',\n",
       " 'E': 'Errors'}"
      ]
     },
     "execution_count": 5,
     "metadata": {},
     "output_type": "execute_result"
    }
   ],
   "source": [
    "feature_names = {\"W\":\"Wins\",\"R\":\"Runs\",\"AB\":\"At Bats\",\"H\":\"Hits\",\"2B\":\"Doubles\",\"3B\":\"Triples\",\"HR\":\"Homeruns\",\"BB\":\"Walks\",\"SO\":\"Strikeouts\",\"SB\":\"Stolen Bases\",\"RA\":\"Runs Allowed\",\"ER\":\"Earned Runs\",\"ERA\":\"Earned Run Average\",\"CG\":\"Complete Games\",\"SHO\":\"Shutouts\",\"SV\":\"Saves\",\"E\":\"Errors\"}\n",
    "feature_names"
   ]
  },
  {
   "cell_type": "code",
   "execution_count": 6,
   "metadata": {},
   "outputs": [
    {
     "data": {
      "text/html": [
       "<div>\n",
       "<style scoped>\n",
       "    .dataframe tbody tr th:only-of-type {\n",
       "        vertical-align: middle;\n",
       "    }\n",
       "\n",
       "    .dataframe tbody tr th {\n",
       "        vertical-align: top;\n",
       "    }\n",
       "\n",
       "    .dataframe thead th {\n",
       "        text-align: right;\n",
       "    }\n",
       "</style>\n",
       "<table border=\"1\" class=\"dataframe\">\n",
       "  <thead>\n",
       "    <tr style=\"text-align: right;\">\n",
       "      <th></th>\n",
       "      <th>Wins</th>\n",
       "      <th>Runs</th>\n",
       "      <th>At Bats</th>\n",
       "      <th>Hits</th>\n",
       "      <th>Doubles</th>\n",
       "      <th>Triples</th>\n",
       "      <th>Homeruns</th>\n",
       "      <th>Walks</th>\n",
       "      <th>Strikeouts</th>\n",
       "      <th>Stolen Bases</th>\n",
       "      <th>Runs Allowed</th>\n",
       "      <th>Earned Runs</th>\n",
       "      <th>Earned Run Average</th>\n",
       "      <th>Complete Games</th>\n",
       "      <th>Shutouts</th>\n",
       "      <th>Saves</th>\n",
       "      <th>Errors</th>\n",
       "    </tr>\n",
       "  </thead>\n",
       "  <tbody>\n",
       "    <tr>\n",
       "      <th>0</th>\n",
       "      <td>95</td>\n",
       "      <td>724</td>\n",
       "      <td>5575</td>\n",
       "      <td>1497</td>\n",
       "      <td>300</td>\n",
       "      <td>42</td>\n",
       "      <td>139</td>\n",
       "      <td>383</td>\n",
       "      <td>973</td>\n",
       "      <td>104</td>\n",
       "      <td>641</td>\n",
       "      <td>601</td>\n",
       "      <td>3.73</td>\n",
       "      <td>2</td>\n",
       "      <td>8</td>\n",
       "      <td>56</td>\n",
       "      <td>88</td>\n",
       "    </tr>\n",
       "    <tr>\n",
       "      <th>1</th>\n",
       "      <td>83</td>\n",
       "      <td>696</td>\n",
       "      <td>5467</td>\n",
       "      <td>1349</td>\n",
       "      <td>277</td>\n",
       "      <td>44</td>\n",
       "      <td>156</td>\n",
       "      <td>439</td>\n",
       "      <td>1264</td>\n",
       "      <td>70</td>\n",
       "      <td>700</td>\n",
       "      <td>653</td>\n",
       "      <td>4.07</td>\n",
       "      <td>2</td>\n",
       "      <td>12</td>\n",
       "      <td>45</td>\n",
       "      <td>86</td>\n",
       "    </tr>\n",
       "    <tr>\n",
       "      <th>2</th>\n",
       "      <td>81</td>\n",
       "      <td>669</td>\n",
       "      <td>5439</td>\n",
       "      <td>1395</td>\n",
       "      <td>303</td>\n",
       "      <td>29</td>\n",
       "      <td>141</td>\n",
       "      <td>533</td>\n",
       "      <td>1157</td>\n",
       "      <td>86</td>\n",
       "      <td>640</td>\n",
       "      <td>584</td>\n",
       "      <td>3.67</td>\n",
       "      <td>11</td>\n",
       "      <td>10</td>\n",
       "      <td>38</td>\n",
       "      <td>79</td>\n",
       "    </tr>\n",
       "    <tr>\n",
       "      <th>3</th>\n",
       "      <td>76</td>\n",
       "      <td>622</td>\n",
       "      <td>5533</td>\n",
       "      <td>1381</td>\n",
       "      <td>260</td>\n",
       "      <td>27</td>\n",
       "      <td>136</td>\n",
       "      <td>404</td>\n",
       "      <td>1231</td>\n",
       "      <td>68</td>\n",
       "      <td>701</td>\n",
       "      <td>643</td>\n",
       "      <td>3.98</td>\n",
       "      <td>7</td>\n",
       "      <td>9</td>\n",
       "      <td>37</td>\n",
       "      <td>101</td>\n",
       "    </tr>\n",
       "    <tr>\n",
       "      <th>4</th>\n",
       "      <td>74</td>\n",
       "      <td>689</td>\n",
       "      <td>5605</td>\n",
       "      <td>1515</td>\n",
       "      <td>289</td>\n",
       "      <td>49</td>\n",
       "      <td>151</td>\n",
       "      <td>455</td>\n",
       "      <td>1259</td>\n",
       "      <td>83</td>\n",
       "      <td>803</td>\n",
       "      <td>746</td>\n",
       "      <td>4.64</td>\n",
       "      <td>7</td>\n",
       "      <td>12</td>\n",
       "      <td>35</td>\n",
       "      <td>86</td>\n",
       "    </tr>\n",
       "  </tbody>\n",
       "</table>\n",
       "</div>"
      ],
      "text/plain": [
       "   Wins  Runs  At Bats  Hits  Doubles  Triples  Homeruns  Walks  Strikeouts  \\\n",
       "0    95   724     5575  1497      300       42       139    383         973   \n",
       "1    83   696     5467  1349      277       44       156    439        1264   \n",
       "2    81   669     5439  1395      303       29       141    533        1157   \n",
       "3    76   622     5533  1381      260       27       136    404        1231   \n",
       "4    74   689     5605  1515      289       49       151    455        1259   \n",
       "\n",
       "   Stolen Bases  Runs Allowed  Earned Runs  Earned Run Average  \\\n",
       "0           104           641          601                3.73   \n",
       "1            70           700          653                4.07   \n",
       "2            86           640          584                3.67   \n",
       "3            68           701          643                3.98   \n",
       "4            83           803          746                4.64   \n",
       "\n",
       "   Complete Games  Shutouts  Saves  Errors  \n",
       "0               2         8     56      88  \n",
       "1               2        12     45      86  \n",
       "2              11        10     38      79  \n",
       "3               7         9     37     101  \n",
       "4               7        12     35      86  "
      ]
     },
     "execution_count": 6,
     "metadata": {},
     "output_type": "execute_result"
    }
   ],
   "source": [
    "df.rename(index=str,columns=feature_names,inplace=True)\n",
    "df.head()"
   ]
  },
  {
   "cell_type": "code",
   "execution_count": 7,
   "metadata": {},
   "outputs": [
    {
     "name": "stdout",
     "output_type": "stream",
     "text": [
      "<class 'pandas.core.frame.DataFrame'>\n",
      "Index: 30 entries, 0 to 29\n",
      "Data columns (total 17 columns):\n",
      " #   Column              Non-Null Count  Dtype  \n",
      "---  ------              --------------  -----  \n",
      " 0   Wins                30 non-null     int64  \n",
      " 1   Runs                30 non-null     int64  \n",
      " 2   At Bats             30 non-null     int64  \n",
      " 3   Hits                30 non-null     int64  \n",
      " 4   Doubles             30 non-null     int64  \n",
      " 5   Triples             30 non-null     int64  \n",
      " 6   Homeruns            30 non-null     int64  \n",
      " 7   Walks               30 non-null     int64  \n",
      " 8   Strikeouts          30 non-null     int64  \n",
      " 9   Stolen Bases        30 non-null     int64  \n",
      " 10  Runs Allowed        30 non-null     int64  \n",
      " 11  Earned Runs         30 non-null     int64  \n",
      " 12  Earned Run Average  30 non-null     float64\n",
      " 13  Complete Games      30 non-null     int64  \n",
      " 14  Shutouts            30 non-null     int64  \n",
      " 15  Saves               30 non-null     int64  \n",
      " 16  Errors              30 non-null     int64  \n",
      "dtypes: float64(1), int64(16)\n",
      "memory usage: 4.2+ KB\n"
     ]
    }
   ],
   "source": [
    "df.info()"
   ]
  },
  {
   "cell_type": "markdown",
   "metadata": {},
   "source": [
    "Let's look into the distribution of all features"
   ]
  },
  {
   "cell_type": "code",
   "execution_count": 26,
   "metadata": {},
   "outputs": [
    {
     "data": {
      "text/html": [
       "<div>\n",
       "<style scoped>\n",
       "    .dataframe tbody tr th:only-of-type {\n",
       "        vertical-align: middle;\n",
       "    }\n",
       "\n",
       "    .dataframe tbody tr th {\n",
       "        vertical-align: top;\n",
       "    }\n",
       "\n",
       "    .dataframe thead th {\n",
       "        text-align: right;\n",
       "    }\n",
       "</style>\n",
       "<table border=\"1\" class=\"dataframe\">\n",
       "  <thead>\n",
       "    <tr style=\"text-align: right;\">\n",
       "      <th></th>\n",
       "      <th>Wins</th>\n",
       "      <th>Runs</th>\n",
       "      <th>At Bats</th>\n",
       "      <th>Hits</th>\n",
       "      <th>Doubles</th>\n",
       "      <th>Triples</th>\n",
       "      <th>Homeruns</th>\n",
       "      <th>Walks</th>\n",
       "      <th>Strikeouts</th>\n",
       "      <th>Stolen Bases</th>\n",
       "      <th>Runs Allowed</th>\n",
       "      <th>Earned Runs</th>\n",
       "      <th>Earned Run Average</th>\n",
       "      <th>Complete Games</th>\n",
       "      <th>Shutouts</th>\n",
       "      <th>Saves</th>\n",
       "      <th>Errors</th>\n",
       "    </tr>\n",
       "  </thead>\n",
       "  <tbody>\n",
       "    <tr>\n",
       "      <th>count</th>\n",
       "      <td>30.000000</td>\n",
       "      <td>30.000000</td>\n",
       "      <td>30.000000</td>\n",
       "      <td>30.000000</td>\n",
       "      <td>30.000000</td>\n",
       "      <td>30.000000</td>\n",
       "      <td>30.000000</td>\n",
       "      <td>30.000000</td>\n",
       "      <td>30.00000</td>\n",
       "      <td>30.000000</td>\n",
       "      <td>30.000000</td>\n",
       "      <td>30.000000</td>\n",
       "      <td>30.000000</td>\n",
       "      <td>30.000000</td>\n",
       "      <td>30.000000</td>\n",
       "      <td>30.000000</td>\n",
       "      <td>30.000000</td>\n",
       "    </tr>\n",
       "    <tr>\n",
       "      <th>mean</th>\n",
       "      <td>80.966667</td>\n",
       "      <td>688.233333</td>\n",
       "      <td>5516.266667</td>\n",
       "      <td>1403.533333</td>\n",
       "      <td>274.733333</td>\n",
       "      <td>31.300000</td>\n",
       "      <td>163.633333</td>\n",
       "      <td>469.100000</td>\n",
       "      <td>1248.20000</td>\n",
       "      <td>83.500000</td>\n",
       "      <td>688.233333</td>\n",
       "      <td>635.833333</td>\n",
       "      <td>3.956333</td>\n",
       "      <td>3.466667</td>\n",
       "      <td>11.300000</td>\n",
       "      <td>43.066667</td>\n",
       "      <td>94.333333</td>\n",
       "    </tr>\n",
       "    <tr>\n",
       "      <th>std</th>\n",
       "      <td>10.453455</td>\n",
       "      <td>58.761754</td>\n",
       "      <td>70.467372</td>\n",
       "      <td>57.140923</td>\n",
       "      <td>18.095405</td>\n",
       "      <td>10.452355</td>\n",
       "      <td>31.823309</td>\n",
       "      <td>57.053725</td>\n",
       "      <td>103.75947</td>\n",
       "      <td>22.815225</td>\n",
       "      <td>72.108005</td>\n",
       "      <td>70.140786</td>\n",
       "      <td>0.454089</td>\n",
       "      <td>2.763473</td>\n",
       "      <td>4.120177</td>\n",
       "      <td>7.869335</td>\n",
       "      <td>13.958889</td>\n",
       "    </tr>\n",
       "    <tr>\n",
       "      <th>min</th>\n",
       "      <td>63.000000</td>\n",
       "      <td>573.000000</td>\n",
       "      <td>5385.000000</td>\n",
       "      <td>1324.000000</td>\n",
       "      <td>236.000000</td>\n",
       "      <td>13.000000</td>\n",
       "      <td>100.000000</td>\n",
       "      <td>375.000000</td>\n",
       "      <td>973.00000</td>\n",
       "      <td>44.000000</td>\n",
       "      <td>525.000000</td>\n",
       "      <td>478.000000</td>\n",
       "      <td>2.940000</td>\n",
       "      <td>0.000000</td>\n",
       "      <td>4.000000</td>\n",
       "      <td>28.000000</td>\n",
       "      <td>75.000000</td>\n",
       "    </tr>\n",
       "    <tr>\n",
       "      <th>25%</th>\n",
       "      <td>74.000000</td>\n",
       "      <td>651.250000</td>\n",
       "      <td>5464.000000</td>\n",
       "      <td>1363.000000</td>\n",
       "      <td>262.250000</td>\n",
       "      <td>23.000000</td>\n",
       "      <td>140.250000</td>\n",
       "      <td>428.250000</td>\n",
       "      <td>1157.50000</td>\n",
       "      <td>69.000000</td>\n",
       "      <td>636.250000</td>\n",
       "      <td>587.250000</td>\n",
       "      <td>3.682500</td>\n",
       "      <td>1.000000</td>\n",
       "      <td>9.000000</td>\n",
       "      <td>37.250000</td>\n",
       "      <td>86.000000</td>\n",
       "    </tr>\n",
       "    <tr>\n",
       "      <th>50%</th>\n",
       "      <td>81.000000</td>\n",
       "      <td>689.000000</td>\n",
       "      <td>5510.000000</td>\n",
       "      <td>1382.500000</td>\n",
       "      <td>275.500000</td>\n",
       "      <td>31.000000</td>\n",
       "      <td>158.500000</td>\n",
       "      <td>473.000000</td>\n",
       "      <td>1261.50000</td>\n",
       "      <td>83.500000</td>\n",
       "      <td>695.500000</td>\n",
       "      <td>644.500000</td>\n",
       "      <td>4.025000</td>\n",
       "      <td>3.000000</td>\n",
       "      <td>12.000000</td>\n",
       "      <td>42.000000</td>\n",
       "      <td>91.000000</td>\n",
       "    </tr>\n",
       "    <tr>\n",
       "      <th>75%</th>\n",
       "      <td>87.750000</td>\n",
       "      <td>718.250000</td>\n",
       "      <td>5570.000000</td>\n",
       "      <td>1451.500000</td>\n",
       "      <td>288.750000</td>\n",
       "      <td>39.000000</td>\n",
       "      <td>177.000000</td>\n",
       "      <td>501.250000</td>\n",
       "      <td>1311.50000</td>\n",
       "      <td>96.500000</td>\n",
       "      <td>732.500000</td>\n",
       "      <td>679.250000</td>\n",
       "      <td>4.220000</td>\n",
       "      <td>5.750000</td>\n",
       "      <td>13.000000</td>\n",
       "      <td>46.750000</td>\n",
       "      <td>96.750000</td>\n",
       "    </tr>\n",
       "    <tr>\n",
       "      <th>max</th>\n",
       "      <td>100.000000</td>\n",
       "      <td>891.000000</td>\n",
       "      <td>5649.000000</td>\n",
       "      <td>1515.000000</td>\n",
       "      <td>308.000000</td>\n",
       "      <td>49.000000</td>\n",
       "      <td>232.000000</td>\n",
       "      <td>570.000000</td>\n",
       "      <td>1518.00000</td>\n",
       "      <td>134.000000</td>\n",
       "      <td>844.000000</td>\n",
       "      <td>799.000000</td>\n",
       "      <td>5.040000</td>\n",
       "      <td>11.000000</td>\n",
       "      <td>21.000000</td>\n",
       "      <td>62.000000</td>\n",
       "      <td>126.000000</td>\n",
       "    </tr>\n",
       "  </tbody>\n",
       "</table>\n",
       "</div>"
      ],
      "text/plain": [
       "             Wins        Runs      At Bats         Hits     Doubles  \\\n",
       "count   30.000000   30.000000    30.000000    30.000000   30.000000   \n",
       "mean    80.966667  688.233333  5516.266667  1403.533333  274.733333   \n",
       "std     10.453455   58.761754    70.467372    57.140923   18.095405   \n",
       "min     63.000000  573.000000  5385.000000  1324.000000  236.000000   \n",
       "25%     74.000000  651.250000  5464.000000  1363.000000  262.250000   \n",
       "50%     81.000000  689.000000  5510.000000  1382.500000  275.500000   \n",
       "75%     87.750000  718.250000  5570.000000  1451.500000  288.750000   \n",
       "max    100.000000  891.000000  5649.000000  1515.000000  308.000000   \n",
       "\n",
       "         Triples    Homeruns       Walks  Strikeouts  Stolen Bases  \\\n",
       "count  30.000000   30.000000   30.000000    30.00000     30.000000   \n",
       "mean   31.300000  163.633333  469.100000  1248.20000     83.500000   \n",
       "std    10.452355   31.823309   57.053725   103.75947     22.815225   \n",
       "min    13.000000  100.000000  375.000000   973.00000     44.000000   \n",
       "25%    23.000000  140.250000  428.250000  1157.50000     69.000000   \n",
       "50%    31.000000  158.500000  473.000000  1261.50000     83.500000   \n",
       "75%    39.000000  177.000000  501.250000  1311.50000     96.500000   \n",
       "max    49.000000  232.000000  570.000000  1518.00000    134.000000   \n",
       "\n",
       "       Runs Allowed  Earned Runs  Earned Run Average  Complete Games  \\\n",
       "count     30.000000    30.000000           30.000000       30.000000   \n",
       "mean     688.233333   635.833333            3.956333        3.466667   \n",
       "std       72.108005    70.140786            0.454089        2.763473   \n",
       "min      525.000000   478.000000            2.940000        0.000000   \n",
       "25%      636.250000   587.250000            3.682500        1.000000   \n",
       "50%      695.500000   644.500000            4.025000        3.000000   \n",
       "75%      732.500000   679.250000            4.220000        5.750000   \n",
       "max      844.000000   799.000000            5.040000       11.000000   \n",
       "\n",
       "        Shutouts      Saves      Errors  \n",
       "count  30.000000  30.000000   30.000000  \n",
       "mean   11.300000  43.066667   94.333333  \n",
       "std     4.120177   7.869335   13.958889  \n",
       "min     4.000000  28.000000   75.000000  \n",
       "25%     9.000000  37.250000   86.000000  \n",
       "50%    12.000000  42.000000   91.000000  \n",
       "75%    13.000000  46.750000   96.750000  \n",
       "max    21.000000  62.000000  126.000000  "
      ]
     },
     "execution_count": 26,
     "metadata": {},
     "output_type": "execute_result"
    }
   ],
   "source": [
    "df.describe()"
   ]
  },
  {
   "cell_type": "code",
   "execution_count": 60,
   "metadata": {},
   "outputs": [
    {
     "data": {
      "text/plain": [
       "Text(0.5, 1.0, 'Number of Wins - Histogram')"
      ]
     },
     "execution_count": 60,
     "metadata": {},
     "output_type": "execute_result"
    },
    {
     "data": {
      "image/png": "[encoded data removed]",
      "text/plain": [
       "<Figure size 1080x432 with 1 Axes>"
      ]
     },
     "metadata": {
      "needs_background": "light"
     },
     "output_type": "display_data"
    }
   ],
   "source": [
    "plt.figure(figsize=(15,6))\n",
    "plt.hist(df[\"Wins\"])\n",
    "plt.xlabel('Number of Wins')\n",
    "plt.ylabel('Frequency')\n",
    "plt.title('Number of Wins - Histogram')"
   ]
  },
  {
   "cell_type": "markdown",
   "metadata": {},
   "source": [
    "The team has highest number of wins around the mean"
   ]
  },
  {
   "cell_type": "code",
   "execution_count": 61,
   "metadata": {},
   "outputs": [
    {
     "data": {
      "text/plain": [
       "Text(0.5, 1.0, 'Runs - Histogram')"
      ]
     },
     "execution_count": 61,
     "metadata": {},
     "output_type": "execute_result"
    },
    {
     "data": {
      "image/png": "[encoded data removed]",
      "text/plain": [
       "<Figure size 1080x432 with 1 Axes>"
      ]
     },
     "metadata": {
      "needs_background": "light"
     },
     "output_type": "display_data"
    }
   ],
   "source": [
    "plt.figure(figsize=(15,6))\n",
    "plt.hist(df[\"Runs\"])\n",
    "plt.xlabel('Runs')\n",
    "plt.ylabel('Frequency')\n",
    "plt.title('Runs - Histogram')"
   ]
  },
  {
   "cell_type": "markdown",
   "metadata": {},
   "source": [
    "Distribution of runs approximates normal distribution with an outlier"
   ]
  },
  {
   "cell_type": "code",
   "execution_count": 62,
   "metadata": {},
   "outputs": [
    {
     "data": {
      "text/plain": [
       "Text(0.5, 1.0, 'At Bats - Histogram')"
      ]
     },
     "execution_count": 62,
     "metadata": {},
     "output_type": "execute_result"
    },
    {
     "data": {
      "image/png": "[encoded data removed]",
      "text/plain": [
       "<Figure size 1080x432 with 1 Axes>"
      ]
     },
     "metadata": {
      "needs_background": "light"
     },
     "output_type": "display_data"
    }
   ],
   "source": [
    "plt.figure(figsize=(15,6))\n",
    "plt.hist(df[\"At Bats\"])\n",
    "plt.xlabel('At Bats')\n",
    "plt.ylabel('Frequency')\n",
    "plt.title('At Bats - Histogram')"
   ]
  },
  {
   "cell_type": "code",
   "execution_count": 63,
   "metadata": {},
   "outputs": [
    {
     "data": {
      "text/plain": [
       "Text(0.5, 1.0, 'Hits - Histogram')"
      ]
     },
     "execution_count": 63,
     "metadata": {},
     "output_type": "execute_result"
    },
    {
     "data": {
      "image/png": "[encoded data removed]",
      "text/plain": [
       "<Figure size 1080x432 with 1 Axes>"
      ]
     },
     "metadata": {
      "needs_background": "light"
     },
     "output_type": "display_data"
    }
   ],
   "source": [
    "plt.figure(figsize=(15,6))\n",
    "plt.hist(df[\"Hits\"])\n",
    "plt.xlabel('Hits')\n",
    "plt.ylabel('Frequency')\n",
    "plt.title('Hits - Histogram')"
   ]
  },
  {
   "cell_type": "code",
   "execution_count": 64,
   "metadata": {},
   "outputs": [
    {
     "data": {
      "text/plain": [
       "Text(0.5, 1.0, 'Doubles - Histogram')"
      ]
     },
     "execution_count": 64,
     "metadata": {},
     "output_type": "execute_result"
    },
    {
     "data": {
      "image/png": "[encoded data removed]",
      "text/plain": [
       "<Figure size 1080x432 with 1 Axes>"
      ]
     },
     "metadata": {
      "needs_background": "light"
     },
     "output_type": "display_data"
    }
   ],
   "source": [
    "plt.figure(figsize=(15,6))\n",
    "plt.hist(df[\"Doubles\"])\n",
    "plt.xlabel('Doubles')\n",
    "plt.ylabel('Frequency')\n",
    "plt.title('Doubles - Histogram')"
   ]
  },
  {
   "cell_type": "code",
   "execution_count": 65,
   "metadata": {},
   "outputs": [
    {
     "name": "stdout",
     "output_type": "stream",
     "text": [
      "<class 'pandas.core.frame.DataFrame'>\n",
      "Index: 30 entries, 0 to 29\n",
      "Data columns (total 17 columns):\n",
      " #   Column              Non-Null Count  Dtype  \n",
      "---  ------              --------------  -----  \n",
      " 0   Wins                30 non-null     int64  \n",
      " 1   Runs                30 non-null     int64  \n",
      " 2   At Bats             30 non-null     int64  \n",
      " 3   Hits                30 non-null     int64  \n",
      " 4   Doubles             30 non-null     int64  \n",
      " 5   Triples             30 non-null     int64  \n",
      " 6   Homeruns            30 non-null     int64  \n",
      " 7   Walks               30 non-null     int64  \n",
      " 8   Strikeouts          30 non-null     int64  \n",
      " 9   Stolen Bases        30 non-null     int64  \n",
      " 10  Runs Allowed        30 non-null     int64  \n",
      " 11  Earned Runs         30 non-null     int64  \n",
      " 12  Earned Run Average  30 non-null     float64\n",
      " 13  Complete Games      30 non-null     int64  \n",
      " 14  Shutouts            30 non-null     int64  \n",
      " 15  Saves               30 non-null     int64  \n",
      " 16  Errors              30 non-null     int64  \n",
      "dtypes: float64(1), int64(16)\n",
      "memory usage: 4.2+ KB\n"
     ]
    }
   ],
   "source": [
    "df.info()"
   ]
  },
  {
   "cell_type": "code",
   "execution_count": 66,
   "metadata": {},
   "outputs": [
    {
     "data": {
      "text/plain": [
       "Text(0.5, 1.0, 'Triples - Histogram')"
      ]
     },
     "execution_count": 66,
     "metadata": {},
     "output_type": "execute_result"
    },
    {
     "data": {
      "image/png": "[encoded data removed]",
      "text/plain": [
       "<Figure size 1080x432 with 1 Axes>"
      ]
     },
     "metadata": {
      "needs_background": "light"
     },
     "output_type": "display_data"
    }
   ],
   "source": [
    "plt.figure(figsize=(15,6))\n",
    "plt.hist(df[\"Triples\"])\n",
    "plt.xlabel('Triples')\n",
    "plt.ylabel('Frequency')\n",
    "plt.title('Triples - Histogram')"
   ]
  },
  {
   "cell_type": "code",
   "execution_count": 67,
   "metadata": {},
   "outputs": [
    {
     "data": {
      "text/plain": [
       "Text(0.5, 1.0, 'Homeruns - Histogram')"
      ]
     },
     "execution_count": 67,
     "metadata": {},
     "output_type": "execute_result"
    },
    {
     "data": {
      "image/png": "[encoded data removed]",
      "text/plain": [
       "<Figure size 1080x432 with 1 Axes>"
      ]
     },
     "metadata": {
      "needs_background": "light"
     },
     "output_type": "display_data"
    }
   ],
   "source": [
    "plt.figure(figsize=(15,6))\n",
    "plt.hist(df[\"Homeruns\"])\n",
    "plt.xlabel('Homeruns')\n",
    "plt.ylabel('Frequency')\n",
    "plt.title('Homeruns - Histogram')"
   ]
  },
  {
   "cell_type": "code",
   "execution_count": 68,
   "metadata": {},
   "outputs": [
    {
     "data": {
      "text/plain": [
       "Text(0.5, 1.0, 'Walks - Histogram')"
      ]
     },
     "execution_count": 68,
     "metadata": {},
     "output_type": "execute_result"
    },
    {
     "data": {
      "image/png": "[encoded data removed]",
      "text/plain": [
       "<Figure size 1080x432 with 1 Axes>"
      ]
     },
     "metadata": {
      "needs_background": "light"
     },
     "output_type": "display_data"
    }
   ],
   "source": [
    "plt.figure(figsize=(15,6))\n",
    "plt.hist(df[\"Walks\"])\n",
    "plt.xlabel('Walks')\n",
    "plt.ylabel('Frequency')\n",
    "plt.title('Walks - Histogram')"
   ]
  },
  {
   "cell_type": "code",
   "execution_count": 69,
   "metadata": {},
   "outputs": [
    {
     "data": {
      "text/plain": [
       "Text(0.5, 1.0, 'Strikeouts - Histogram')"
      ]
     },
     "execution_count": 69,
     "metadata": {},
     "output_type": "execute_result"
    },
    {
     "data": {
      "image/png": "[encoded data removed]",
      "text/plain": [
       "<Figure size 1080x432 with 1 Axes>"
      ]
     },
     "metadata": {
      "needs_background": "light"
     },
     "output_type": "display_data"
    }
   ],
   "source": [
    "plt.figure(figsize=(15,6))\n",
    "plt.hist(df[\"Strikeouts\"])\n",
    "plt.xlabel('Strikeouts')\n",
    "plt.ylabel('Frequency')\n",
    "plt.title('Strikeouts - Histogram')"
   ]
  },
  {
   "cell_type": "code",
   "execution_count": 70,
   "metadata": {},
   "outputs": [
    {
     "data": {
      "text/plain": [
       "Text(0.5, 1.0, 'Stolen Bases - Histogram')"
      ]
     },
     "execution_count": 70,
     "metadata": {},
     "output_type": "execute_result"
    },
    {
     "data": {
      "image/png": "[encoded data removed]",
      "text/plain": [
       "<Figure size 1080x432 with 1 Axes>"
      ]
     },
     "metadata": {
      "needs_background": "light"
     },
     "output_type": "display_data"
    }
   ],
   "source": [
    "plt.figure(figsize=(15,6))\n",
    "plt.hist(df[\"Stolen Bases\"])\n",
    "plt.xlabel('Stolen Bases')\n",
    "plt.ylabel('Frequency')\n",
    "plt.title('Stolen Bases - Histogram')"
   ]
  },
  {
   "cell_type": "code",
   "execution_count": 71,
   "metadata": {},
   "outputs": [
    {
     "data": {
      "text/plain": [
       "Text(0.5, 1.0, 'Runs Allowed - Histogram')"
      ]
     },
     "execution_count": 71,
     "metadata": {},
     "output_type": "execute_result"
    },
    {
     "data": {
      "image/png": "[encoded data removed]",
      "text/plain": [
       "<Figure size 1080x432 with 1 Axes>"
      ]
     },
     "metadata": {
      "needs_background": "light"
     },
     "output_type": "display_data"
    }
   ],
   "source": [
    "plt.figure(figsize=(15,6))\n",
    "plt.hist(df[\"Runs Allowed\"])\n",
    "plt.xlabel('Runs Allowed')\n",
    "plt.ylabel('Frequency')\n",
    "plt.title('Runs Allowed - Histogram')"
   ]
  },
  {
   "cell_type": "code",
   "execution_count": 72,
   "metadata": {},
   "outputs": [
    {
     "data": {
      "text/plain": [
       "Text(0.5, 1.0, 'Earned Runs - Histogram')"
      ]
     },
     "execution_count": 72,
     "metadata": {},
     "output_type": "execute_result"
    },
    {
     "data": {
      "image/png": "[encoded data removed]",
      "text/plain": [
       "<Figure size 1080x432 with 1 Axes>"
      ]
     },
     "metadata": {
      "needs_background": "light"
     },
     "output_type": "display_data"
    }
   ],
   "source": [
    "plt.figure(figsize=(15,6))\n",
    "plt.hist(df[\"Earned Runs\"])\n",
    "plt.xlabel('Earned Runs')\n",
    "plt.ylabel('Frequency')\n",
    "plt.title('Earned Runs - Histogram')"
   ]
  },
  {
   "cell_type": "code",
   "execution_count": 73,
   "metadata": {},
   "outputs": [
    {
     "data": {
      "text/plain": [
       "Text(0.5, 1.0, 'Earned Run Average - Histogram')"
      ]
     },
     "execution_count": 73,
     "metadata": {},
     "output_type": "execute_result"
    },
    {
     "data": {
      "image/png": "[encoded data removed]",
      "text/plain": [
       "<Figure size 1080x432 with 1 Axes>"
      ]
     },
     "metadata": {
      "needs_background": "light"
     },
     "output_type": "display_data"
    }
   ],
   "source": [
    "plt.figure(figsize=(15,6))\n",
    "plt.hist(df[\"Earned Run Average\"])\n",
    "plt.xlabel('Earned Run Average')\n",
    "plt.ylabel('Frequency')\n",
    "plt.title('Earned Run Average - Histogram')"
   ]
  },
  {
   "cell_type": "code",
   "execution_count": 74,
   "metadata": {},
   "outputs": [
    {
     "data": {
      "text/plain": [
       "Text(0.5, 1.0, 'Complete Games - Histogram')"
      ]
     },
     "execution_count": 74,
     "metadata": {},
     "output_type": "execute_result"
    },
    {
     "data": {
      "image/png": "[encoded data removed]",
      "text/plain": [
       "<Figure size 1080x432 with 1 Axes>"
      ]
     },
     "metadata": {
      "needs_background": "light"
     },
     "output_type": "display_data"
    }
   ],
   "source": [
    "plt.figure(figsize=(15,6))\n",
    "plt.hist(df[\"Complete Games\"])\n",
    "plt.xlabel('Complete Games')\n",
    "plt.ylabel('Frequency')\n",
    "plt.title('Complete Games - Histogram')"
   ]
  },
  {
   "cell_type": "code",
   "execution_count": 75,
   "metadata": {},
   "outputs": [
    {
     "data": {
      "text/plain": [
       "Text(0.5, 1.0, 'Shutouts - Histogram')"
      ]
     },
     "execution_count": 75,
     "metadata": {},
     "output_type": "execute_result"
    },
    {
     "data": {
      "image/png": "[encoded data removed]",
      "text/plain": [
       "<Figure size 1080x432 with 1 Axes>"
      ]
     },
     "metadata": {
      "needs_background": "light"
     },
     "output_type": "display_data"
    }
   ],
   "source": [
    "plt.figure(figsize=(15,6))\n",
    "plt.hist(df[\"Shutouts\"])\n",
    "plt.xlabel('Shutouts')\n",
    "plt.ylabel('Frequency')\n",
    "plt.title('Shutouts - Histogram')"
   ]
  },
  {
   "cell_type": "code",
   "execution_count": 76,
   "metadata": {},
   "outputs": [
    {
     "data": {
      "text/plain": [
       "Text(0.5, 1.0, 'Saves - Histogram')"
      ]
     },
     "execution_count": 76,
     "metadata": {},
     "output_type": "execute_result"
    },
    {
     "data": {
      "image/png": "[encoded data removed]",
      "text/plain": [
       "<Figure size 1080x432 with 1 Axes>"
      ]
     },
     "metadata": {
      "needs_background": "light"
     },
     "output_type": "display_data"
    }
   ],
   "source": [
    "plt.figure(figsize=(15,6))\n",
    "plt.hist(df[\"Saves\"])\n",
    "plt.xlabel('Saves')\n",
    "plt.ylabel('Frequency')\n",
    "plt.title('Saves - Histogram')"
   ]
  },
  {
   "cell_type": "code",
   "execution_count": 77,
   "metadata": {},
   "outputs": [
    {
     "data": {
      "text/plain": [
       "Text(0.5, 1.0, 'Errors - Histogram')"
      ]
     },
     "execution_count": 77,
     "metadata": {},
     "output_type": "execute_result"
    },
    {
     "data": {
      "image/png": "[encoded data removed]",
      "text/plain": [
       "<Figure size 1080x432 with 1 Axes>"
      ]
     },
     "metadata": {
      "needs_background": "light"
     },
     "output_type": "display_data"
    }
   ],
   "source": [
    "plt.figure(figsize=(15,6))\n",
    "plt.hist(df[\"Errors\"])\n",
    "plt.xlabel('Errors')\n",
    "plt.ylabel('Frequency')\n",
    "plt.title('Errors - Histogram')"
   ]
  },
  {
   "cell_type": "code",
   "execution_count": 78,
   "metadata": {},
   "outputs": [
    {
     "name": "stdout",
     "output_type": "stream",
     "text": [
      "<class 'pandas.core.frame.DataFrame'>\n",
      "Index: 30 entries, 0 to 29\n",
      "Data columns (total 17 columns):\n",
      " #   Column              Non-Null Count  Dtype  \n",
      "---  ------              --------------  -----  \n",
      " 0   Wins                30 non-null     int64  \n",
      " 1   Runs                30 non-null     int64  \n",
      " 2   At Bats             30 non-null     int64  \n",
      " 3   Hits                30 non-null     int64  \n",
      " 4   Doubles             30 non-null     int64  \n",
      " 5   Triples             30 non-null     int64  \n",
      " 6   Homeruns            30 non-null     int64  \n",
      " 7   Walks               30 non-null     int64  \n",
      " 8   Strikeouts          30 non-null     int64  \n",
      " 9   Stolen Bases        30 non-null     int64  \n",
      " 10  Runs Allowed        30 non-null     int64  \n",
      " 11  Earned Runs         30 non-null     int64  \n",
      " 12  Earned Run Average  30 non-null     float64\n",
      " 13  Complete Games      30 non-null     int64  \n",
      " 14  Shutouts            30 non-null     int64  \n",
      " 15  Saves               30 non-null     int64  \n",
      " 16  Errors              30 non-null     int64  \n",
      "dtypes: float64(1), int64(16)\n",
      "memory usage: 4.2+ KB\n"
     ]
    }
   ],
   "source": [
    "df.info()"
   ]
  },
  {
   "cell_type": "markdown",
   "metadata": {},
   "source": [
    "Let's look into the correlation matrix"
   ]
  },
  {
   "cell_type": "code",
   "execution_count": 79,
   "metadata": {},
   "outputs": [
    {
     "data": {
      "text/html": [
       "<div>\n",
       "<style scoped>\n",
       "    .dataframe tbody tr th:only-of-type {\n",
       "        vertical-align: middle;\n",
       "    }\n",
       "\n",
       "    .dataframe tbody tr th {\n",
       "        vertical-align: top;\n",
       "    }\n",
       "\n",
       "    .dataframe thead th {\n",
       "        text-align: right;\n",
       "    }\n",
       "</style>\n",
       "<table border=\"1\" class=\"dataframe\">\n",
       "  <thead>\n",
       "    <tr style=\"text-align: right;\">\n",
       "      <th></th>\n",
       "      <th>Wins</th>\n",
       "      <th>Runs</th>\n",
       "      <th>At Bats</th>\n",
       "      <th>Hits</th>\n",
       "      <th>Doubles</th>\n",
       "      <th>Triples</th>\n",
       "      <th>Homeruns</th>\n",
       "      <th>Walks</th>\n",
       "      <th>Strikeouts</th>\n",
       "      <th>Stolen Bases</th>\n",
       "      <th>Runs Allowed</th>\n",
       "      <th>Earned Runs</th>\n",
       "      <th>Earned Run Average</th>\n",
       "      <th>Complete Games</th>\n",
       "      <th>Shutouts</th>\n",
       "      <th>Saves</th>\n",
       "      <th>Errors</th>\n",
       "    </tr>\n",
       "  </thead>\n",
       "  <tbody>\n",
       "    <tr>\n",
       "      <th>Wins</th>\n",
       "      <td>1.000000</td>\n",
       "      <td>0.430751</td>\n",
       "      <td>-0.087947</td>\n",
       "      <td>0.037612</td>\n",
       "      <td>0.427797</td>\n",
       "      <td>-0.251118</td>\n",
       "      <td>0.307407</td>\n",
       "      <td>0.484342</td>\n",
       "      <td>0.111850</td>\n",
       "      <td>-0.157234</td>\n",
       "      <td>-0.812952</td>\n",
       "      <td>-0.809435</td>\n",
       "      <td>-0.819600</td>\n",
       "      <td>0.080533</td>\n",
       "      <td>0.471805</td>\n",
       "      <td>0.666530</td>\n",
       "      <td>-0.089485</td>\n",
       "    </tr>\n",
       "    <tr>\n",
       "      <th>Runs</th>\n",
       "      <td>0.430751</td>\n",
       "      <td>1.000000</td>\n",
       "      <td>0.319464</td>\n",
       "      <td>0.482856</td>\n",
       "      <td>0.560084</td>\n",
       "      <td>-0.070072</td>\n",
       "      <td>0.671283</td>\n",
       "      <td>0.402452</td>\n",
       "      <td>-0.054726</td>\n",
       "      <td>0.081367</td>\n",
       "      <td>-0.041623</td>\n",
       "      <td>-0.041245</td>\n",
       "      <td>-0.049281</td>\n",
       "      <td>0.232042</td>\n",
       "      <td>-0.103274</td>\n",
       "      <td>-0.096380</td>\n",
       "      <td>-0.023262</td>\n",
       "    </tr>\n",
       "    <tr>\n",
       "      <th>At Bats</th>\n",
       "      <td>-0.087947</td>\n",
       "      <td>0.319464</td>\n",
       "      <td>1.000000</td>\n",
       "      <td>0.739122</td>\n",
       "      <td>0.453370</td>\n",
       "      <td>0.435422</td>\n",
       "      <td>-0.066983</td>\n",
       "      <td>-0.136414</td>\n",
       "      <td>-0.106022</td>\n",
       "      <td>0.372618</td>\n",
       "      <td>0.316010</td>\n",
       "      <td>0.309686</td>\n",
       "      <td>0.255551</td>\n",
       "      <td>-0.080876</td>\n",
       "      <td>-0.197321</td>\n",
       "      <td>-0.106367</td>\n",
       "      <td>0.316743</td>\n",
       "    </tr>\n",
       "    <tr>\n",
       "      <th>Hits</th>\n",
       "      <td>0.037612</td>\n",
       "      <td>0.482856</td>\n",
       "      <td>0.739122</td>\n",
       "      <td>1.000000</td>\n",
       "      <td>0.566847</td>\n",
       "      <td>0.478694</td>\n",
       "      <td>-0.090855</td>\n",
       "      <td>-0.118281</td>\n",
       "      <td>-0.398830</td>\n",
       "      <td>0.413444</td>\n",
       "      <td>0.224324</td>\n",
       "      <td>0.252489</td>\n",
       "      <td>0.231172</td>\n",
       "      <td>0.147955</td>\n",
       "      <td>-0.145559</td>\n",
       "      <td>-0.130371</td>\n",
       "      <td>-0.033173</td>\n",
       "    </tr>\n",
       "    <tr>\n",
       "      <th>Doubles</th>\n",
       "      <td>0.427797</td>\n",
       "      <td>0.560084</td>\n",
       "      <td>0.453370</td>\n",
       "      <td>0.566847</td>\n",
       "      <td>1.000000</td>\n",
       "      <td>0.220490</td>\n",
       "      <td>0.056292</td>\n",
       "      <td>0.302700</td>\n",
       "      <td>-0.150752</td>\n",
       "      <td>0.195027</td>\n",
       "      <td>-0.218160</td>\n",
       "      <td>-0.235531</td>\n",
       "      <td>-0.254854</td>\n",
       "      <td>0.306675</td>\n",
       "      <td>0.057998</td>\n",
       "      <td>0.171576</td>\n",
       "      <td>0.105754</td>\n",
       "    </tr>\n",
       "    <tr>\n",
       "      <th>Triples</th>\n",
       "      <td>-0.251118</td>\n",
       "      <td>-0.070072</td>\n",
       "      <td>0.435422</td>\n",
       "      <td>0.478694</td>\n",
       "      <td>0.220490</td>\n",
       "      <td>1.000000</td>\n",
       "      <td>-0.430915</td>\n",
       "      <td>-0.454949</td>\n",
       "      <td>-0.141196</td>\n",
       "      <td>0.457437</td>\n",
       "      <td>0.314125</td>\n",
       "      <td>0.340225</td>\n",
       "      <td>0.330951</td>\n",
       "      <td>-0.065898</td>\n",
       "      <td>-0.041396</td>\n",
       "      <td>-0.142370</td>\n",
       "      <td>0.126678</td>\n",
       "    </tr>\n",
       "    <tr>\n",
       "      <th>Homeruns</th>\n",
       "      <td>0.307407</td>\n",
       "      <td>0.671283</td>\n",
       "      <td>-0.066983</td>\n",
       "      <td>-0.090855</td>\n",
       "      <td>0.056292</td>\n",
       "      <td>-0.430915</td>\n",
       "      <td>1.000000</td>\n",
       "      <td>0.425691</td>\n",
       "      <td>0.359923</td>\n",
       "      <td>-0.136567</td>\n",
       "      <td>-0.103903</td>\n",
       "      <td>-0.085922</td>\n",
       "      <td>-0.090917</td>\n",
       "      <td>0.156502</td>\n",
       "      <td>-0.019119</td>\n",
       "      <td>-0.028540</td>\n",
       "      <td>-0.207597</td>\n",
       "    </tr>\n",
       "    <tr>\n",
       "      <th>Walks</th>\n",
       "      <td>0.484342</td>\n",
       "      <td>0.402452</td>\n",
       "      <td>-0.136414</td>\n",
       "      <td>-0.118281</td>\n",
       "      <td>0.302700</td>\n",
       "      <td>-0.454949</td>\n",
       "      <td>0.425691</td>\n",
       "      <td>1.000000</td>\n",
       "      <td>0.233652</td>\n",
       "      <td>-0.098347</td>\n",
       "      <td>-0.416445</td>\n",
       "      <td>-0.452663</td>\n",
       "      <td>-0.459832</td>\n",
       "      <td>0.462478</td>\n",
       "      <td>0.426004</td>\n",
       "      <td>0.099445</td>\n",
       "      <td>-0.075685</td>\n",
       "    </tr>\n",
       "    <tr>\n",
       "      <th>Strikeouts</th>\n",
       "      <td>0.111850</td>\n",
       "      <td>-0.054726</td>\n",
       "      <td>-0.106022</td>\n",
       "      <td>-0.398830</td>\n",
       "      <td>-0.150752</td>\n",
       "      <td>-0.141196</td>\n",
       "      <td>0.359923</td>\n",
       "      <td>0.233652</td>\n",
       "      <td>1.000000</td>\n",
       "      <td>0.030968</td>\n",
       "      <td>-0.129745</td>\n",
       "      <td>-0.161612</td>\n",
       "      <td>-0.180368</td>\n",
       "      <td>-0.093418</td>\n",
       "      <td>0.237721</td>\n",
       "      <td>0.126297</td>\n",
       "      <td>0.155133</td>\n",
       "    </tr>\n",
       "    <tr>\n",
       "      <th>Stolen Bases</th>\n",
       "      <td>-0.157234</td>\n",
       "      <td>0.081367</td>\n",
       "      <td>0.372618</td>\n",
       "      <td>0.413444</td>\n",
       "      <td>0.195027</td>\n",
       "      <td>0.457437</td>\n",
       "      <td>-0.136567</td>\n",
       "      <td>-0.098347</td>\n",
       "      <td>0.030968</td>\n",
       "      <td>1.000000</td>\n",
       "      <td>0.132290</td>\n",
       "      <td>0.143068</td>\n",
       "      <td>0.126063</td>\n",
       "      <td>-0.020783</td>\n",
       "      <td>-0.106563</td>\n",
       "      <td>-0.183418</td>\n",
       "      <td>0.079149</td>\n",
       "    </tr>\n",
       "    <tr>\n",
       "      <th>Runs Allowed</th>\n",
       "      <td>-0.812952</td>\n",
       "      <td>-0.041623</td>\n",
       "      <td>0.316010</td>\n",
       "      <td>0.224324</td>\n",
       "      <td>-0.218160</td>\n",
       "      <td>0.314125</td>\n",
       "      <td>-0.103903</td>\n",
       "      <td>-0.416445</td>\n",
       "      <td>-0.129745</td>\n",
       "      <td>0.132290</td>\n",
       "      <td>1.000000</td>\n",
       "      <td>0.991018</td>\n",
       "      <td>0.986674</td>\n",
       "      <td>-0.016659</td>\n",
       "      <td>-0.636862</td>\n",
       "      <td>-0.616224</td>\n",
       "      <td>0.198996</td>\n",
       "    </tr>\n",
       "    <tr>\n",
       "      <th>Earned Runs</th>\n",
       "      <td>-0.809435</td>\n",
       "      <td>-0.041245</td>\n",
       "      <td>0.309686</td>\n",
       "      <td>0.252489</td>\n",
       "      <td>-0.235531</td>\n",
       "      <td>0.340225</td>\n",
       "      <td>-0.085922</td>\n",
       "      <td>-0.452663</td>\n",
       "      <td>-0.161612</td>\n",
       "      <td>0.143068</td>\n",
       "      <td>0.991018</td>\n",
       "      <td>1.000000</td>\n",
       "      <td>0.997248</td>\n",
       "      <td>-0.020221</td>\n",
       "      <td>-0.630192</td>\n",
       "      <td>-0.589663</td>\n",
       "      <td>0.136921</td>\n",
       "    </tr>\n",
       "    <tr>\n",
       "      <th>Earned Run Average</th>\n",
       "      <td>-0.819600</td>\n",
       "      <td>-0.049281</td>\n",
       "      <td>0.255551</td>\n",
       "      <td>0.231172</td>\n",
       "      <td>-0.254854</td>\n",
       "      <td>0.330951</td>\n",
       "      <td>-0.090917</td>\n",
       "      <td>-0.459832</td>\n",
       "      <td>-0.180368</td>\n",
       "      <td>0.126063</td>\n",
       "      <td>0.986674</td>\n",
       "      <td>0.997248</td>\n",
       "      <td>1.000000</td>\n",
       "      <td>-0.009856</td>\n",
       "      <td>-0.630833</td>\n",
       "      <td>-0.607005</td>\n",
       "      <td>0.113137</td>\n",
       "    </tr>\n",
       "    <tr>\n",
       "      <th>Complete Games</th>\n",
       "      <td>0.080533</td>\n",
       "      <td>0.232042</td>\n",
       "      <td>-0.080876</td>\n",
       "      <td>0.147955</td>\n",
       "      <td>0.306675</td>\n",
       "      <td>-0.065898</td>\n",
       "      <td>0.156502</td>\n",
       "      <td>0.462478</td>\n",
       "      <td>-0.093418</td>\n",
       "      <td>-0.020783</td>\n",
       "      <td>-0.016659</td>\n",
       "      <td>-0.020221</td>\n",
       "      <td>-0.009856</td>\n",
       "      <td>1.000000</td>\n",
       "      <td>0.241676</td>\n",
       "      <td>-0.367766</td>\n",
       "      <td>-0.140047</td>\n",
       "    </tr>\n",
       "    <tr>\n",
       "      <th>Shutouts</th>\n",
       "      <td>0.471805</td>\n",
       "      <td>-0.103274</td>\n",
       "      <td>-0.197321</td>\n",
       "      <td>-0.145559</td>\n",
       "      <td>0.057998</td>\n",
       "      <td>-0.041396</td>\n",
       "      <td>-0.019119</td>\n",
       "      <td>0.426004</td>\n",
       "      <td>0.237721</td>\n",
       "      <td>-0.106563</td>\n",
       "      <td>-0.636862</td>\n",
       "      <td>-0.630192</td>\n",
       "      <td>-0.630833</td>\n",
       "      <td>0.241676</td>\n",
       "      <td>1.000000</td>\n",
       "      <td>0.221639</td>\n",
       "      <td>-0.115716</td>\n",
       "    </tr>\n",
       "    <tr>\n",
       "      <th>Saves</th>\n",
       "      <td>0.666530</td>\n",
       "      <td>-0.096380</td>\n",
       "      <td>-0.106367</td>\n",
       "      <td>-0.130371</td>\n",
       "      <td>0.171576</td>\n",
       "      <td>-0.142370</td>\n",
       "      <td>-0.028540</td>\n",
       "      <td>0.099445</td>\n",
       "      <td>0.126297</td>\n",
       "      <td>-0.183418</td>\n",
       "      <td>-0.616224</td>\n",
       "      <td>-0.589663</td>\n",
       "      <td>-0.607005</td>\n",
       "      <td>-0.367766</td>\n",
       "      <td>0.221639</td>\n",
       "      <td>1.000000</td>\n",
       "      <td>-0.025636</td>\n",
       "    </tr>\n",
       "    <tr>\n",
       "      <th>Errors</th>\n",
       "      <td>-0.089485</td>\n",
       "      <td>-0.023262</td>\n",
       "      <td>0.316743</td>\n",
       "      <td>-0.033173</td>\n",
       "      <td>0.105754</td>\n",
       "      <td>0.126678</td>\n",
       "      <td>-0.207597</td>\n",
       "      <td>-0.075685</td>\n",
       "      <td>0.155133</td>\n",
       "      <td>0.079149</td>\n",
       "      <td>0.198996</td>\n",
       "      <td>0.136921</td>\n",
       "      <td>0.113137</td>\n",
       "      <td>-0.140047</td>\n",
       "      <td>-0.115716</td>\n",
       "      <td>-0.025636</td>\n",
       "      <td>1.000000</td>\n",
       "    </tr>\n",
       "  </tbody>\n",
       "</table>\n",
       "</div>"
      ],
      "text/plain": [
       "                        Wins      Runs   At Bats      Hits   Doubles  \\\n",
       "Wins                1.000000  0.430751 -0.087947  0.037612  0.427797   \n",
       "Runs                0.430751  1.000000  0.319464  0.482856  0.560084   \n",
       "At Bats            -0.087947  0.319464  1.000000  0.739122  0.453370   \n",
       "Hits                0.037612  0.482856  0.739122  1.000000  0.566847   \n",
       "Doubles             0.427797  0.560084  0.453370  0.566847  1.000000   \n",
       "Triples            -0.251118 -0.070072  0.435422  0.478694  0.220490   \n",
       "Homeruns            0.307407  0.671283 -0.066983 -0.090855  0.056292   \n",
       "Walks               0.484342  0.402452 -0.136414 -0.118281  0.302700   \n",
       "Strikeouts          0.111850 -0.054726 -0.106022 -0.398830 -0.150752   \n",
       "Stolen Bases       -0.157234  0.081367  0.372618  0.413444  0.195027   \n",
       "Runs Allowed       -0.812952 -0.041623  0.316010  0.224324 -0.218160   \n",
       "Earned Runs        -0.809435 -0.041245  0.309686  0.252489 -0.235531   \n",
       "Earned Run Average -0.819600 -0.049281  0.255551  0.231172 -0.254854   \n",
       "Complete Games      0.080533  0.232042 -0.080876  0.147955  0.306675   \n",
       "Shutouts            0.471805 -0.103274 -0.197321 -0.145559  0.057998   \n",
       "Saves               0.666530 -0.096380 -0.106367 -0.130371  0.171576   \n",
       "Errors             -0.089485 -0.023262  0.316743 -0.033173  0.105754   \n",
       "\n",
       "                     Triples  Homeruns     Walks  Strikeouts  Stolen Bases  \\\n",
       "Wins               -0.251118  0.307407  0.484342    0.111850     -0.157234   \n",
       "Runs               -0.070072  0.671283  0.402452   -0.054726      0.081367   \n",
       "At Bats             0.435422 -0.066983 -0.136414   -0.106022      0.372618   \n",
       "Hits                0.478694 -0.090855 -0.118281   -0.398830      0.413444   \n",
       "Doubles             0.220490  0.056292  0.302700   -0.150752      0.195027   \n",
       "Triples             1.000000 -0.430915 -0.454949   -0.141196      0.457437   \n",
       "Homeruns           -0.430915  1.000000  0.425691    0.359923     -0.136567   \n",
       "Walks              -0.454949  0.425691  1.000000    0.233652     -0.098347   \n",
       "Strikeouts         -0.141196  0.359923  0.233652    1.000000      0.030968   \n",
       "Stolen Bases        0.457437 -0.136567 -0.098347    0.030968      1.000000   \n",
       "Runs Allowed        0.314125 -0.103903 -0.416445   -0.129745      0.132290   \n",
       "Earned Runs         0.340225 -0.085922 -0.452663   -0.161612      0.143068   \n",
       "Earned Run Average  0.330951 -0.090917 -0.459832   -0.180368      0.126063   \n",
       "Complete Games     -0.065898  0.156502  0.462478   -0.093418     -0.020783   \n",
       "Shutouts           -0.041396 -0.019119  0.426004    0.237721     -0.106563   \n",
       "Saves              -0.142370 -0.028540  0.099445    0.126297     -0.183418   \n",
       "Errors              0.126678 -0.207597 -0.075685    0.155133      0.079149   \n",
       "\n",
       "                    Runs Allowed  Earned Runs  Earned Run Average  \\\n",
       "Wins                   -0.812952    -0.809435           -0.819600   \n",
       "Runs                   -0.041623    -0.041245           -0.049281   \n",
       "At Bats                 0.316010     0.309686            0.255551   \n",
       "Hits                    0.224324     0.252489            0.231172   \n",
       "Doubles                -0.218160    -0.235531           -0.254854   \n",
       "Triples                 0.314125     0.340225            0.330951   \n",
       "Homeruns               -0.103903    -0.085922           -0.090917   \n",
       "Walks                  -0.416445    -0.452663           -0.459832   \n",
       "Strikeouts             -0.129745    -0.161612           -0.180368   \n",
       "Stolen Bases            0.132290     0.143068            0.126063   \n",
       "Runs Allowed            1.000000     0.991018            0.986674   \n",
       "Earned Runs             0.991018     1.000000            0.997248   \n",
       "Earned Run Average      0.986674     0.997248            1.000000   \n",
       "Complete Games         -0.016659    -0.020221           -0.009856   \n",
       "Shutouts               -0.636862    -0.630192           -0.630833   \n",
       "Saves                  -0.616224    -0.589663           -0.607005   \n",
       "Errors                  0.198996     0.136921            0.113137   \n",
       "\n",
       "                    Complete Games  Shutouts     Saves    Errors  \n",
       "Wins                      0.080533  0.471805  0.666530 -0.089485  \n",
       "Runs                      0.232042 -0.103274 -0.096380 -0.023262  \n",
       "At Bats                  -0.080876 -0.197321 -0.106367  0.316743  \n",
       "Hits                      0.147955 -0.145559 -0.130371 -0.033173  \n",
       "Doubles                   0.306675  0.057998  0.171576  0.105754  \n",
       "Triples                  -0.065898 -0.041396 -0.142370  0.126678  \n",
       "Homeruns                  0.156502 -0.019119 -0.028540 -0.207597  \n",
       "Walks                     0.462478  0.426004  0.099445 -0.075685  \n",
       "Strikeouts               -0.093418  0.237721  0.126297  0.155133  \n",
       "Stolen Bases             -0.020783 -0.106563 -0.183418  0.079149  \n",
       "Runs Allowed             -0.016659 -0.636862 -0.616224  0.198996  \n",
       "Earned Runs              -0.020221 -0.630192 -0.589663  0.136921  \n",
       "Earned Run Average       -0.009856 -0.630833 -0.607005  0.113137  \n",
       "Complete Games            1.000000  0.241676 -0.367766 -0.140047  \n",
       "Shutouts                  0.241676  1.000000  0.221639 -0.115716  \n",
       "Saves                    -0.367766  0.221639  1.000000 -0.025636  \n",
       "Errors                   -0.140047 -0.115716 -0.025636  1.000000  "
      ]
     },
     "execution_count": 79,
     "metadata": {},
     "output_type": "execute_result"
    }
   ],
   "source": [
    "dfcor = df.corr()\n",
    "dfcor"
   ]
  },
  {
   "cell_type": "markdown",
   "metadata": {},
   "source": [
    "Let's visualise the correlation of the features"
   ]
  },
  {
   "cell_type": "code",
   "execution_count": 80,
   "metadata": {},
   "outputs": [
    {
     "data": {
      "text/plain": [
       "Text(0.5, 1, 'Correlation Visualization')"
      ]
     },
     "execution_count": 80,
     "metadata": {},
     "output_type": "execute_result"
    },
    {
     "data": {
      "image/png": "[encoded data removed]",
      "text/plain": [
       "<Figure size 720x720 with 2 Axes>"
      ]
     },
     "metadata": {
      "needs_background": "light"
     },
     "output_type": "display_data"
    }
   ],
   "source": [
    "plt.figure(figsize=(10,10))\n",
    "sns.heatmap(dfcor,cmap='Spectral',annot=True)\n",
    "plt.title('Correlation Visualization')"
   ]
  },
  {
   "cell_type": "markdown",
   "metadata": {},
   "source": [
    "The number of wins for a team is strongly correlated with number of saves, moderately correlated with number of Walks, Shutouts, Runs, Doubles and very strongly negatively correlated with Earned Run Average, Earned Runs & Runs Allowed"
   ]
  },
  {
   "cell_type": "markdown",
   "metadata": {},
   "source": [
    "Let's look into the scatter plots for these correlations"
   ]
  },
  {
   "cell_type": "code",
   "execution_count": 81,
   "metadata": {},
   "outputs": [
    {
     "data": {
      "text/plain": [
       "Text(0.5, 1.0, 'Wins vs Saves - Scatter Plot')"
      ]
     },
     "execution_count": 81,
     "metadata": {},
     "output_type": "execute_result"
    },
    {
     "data": {
      "image/png": "[encoded data removed]",
      "text/plain": [
       "<Figure size 720x432 with 1 Axes>"
      ]
     },
     "metadata": {
      "needs_background": "light"
     },
     "output_type": "display_data"
    }
   ],
   "source": [
    "plt.figure(figsize=(10,6))\n",
    "sns.scatterplot(x=\"Saves\", y=\"Wins\", data=df)\n",
    "plt.title('Wins vs Saves - Scatter Plot')"
   ]
  },
  {
   "cell_type": "code",
   "execution_count": 82,
   "metadata": {},
   "outputs": [
    {
     "data": {
      "text/plain": [
       "Text(0.5, 1.0, 'Wins vs Walks - Scatter Plot')"
      ]
     },
     "execution_count": 82,
     "metadata": {},
     "output_type": "execute_result"
    },
    {
     "data": {
      "image/png": "[encoded data removed]",
      "text/plain": [
       "<Figure size 720x432 with 1 Axes>"
      ]
     },
     "metadata": {
      "needs_background": "light"
     },
     "output_type": "display_data"
    }
   ],
   "source": [
    "plt.figure(figsize=(10,6))\n",
    "sns.scatterplot(x=\"Walks\", y=\"Wins\", data=df)\n",
    "plt.title('Wins vs Walks - Scatter Plot')"
   ]
  },
  {
   "cell_type": "code",
   "execution_count": 83,
   "metadata": {},
   "outputs": [
    {
     "data": {
      "text/plain": [
       "Text(0.5, 1.0, 'Wins vs Earned Run Average - Scatter Plot')"
      ]
     },
     "execution_count": 83,
     "metadata": {},
     "output_type": "execute_result"
    },
    {
     "data": {
      "image/png": "[encoded data removed]",
      "text/plain": [
       "<Figure size 720x432 with 1 Axes>"
      ]
     },
     "metadata": {
      "needs_background": "light"
     },
     "output_type": "display_data"
    }
   ],
   "source": [
    "plt.figure(figsize=(10,6))\n",
    "sns.scatterplot(x=\"Earned Run Average\", y=\"Wins\", data=df)\n",
    "plt.title('Wins vs Earned Run Average - Scatter Plot')"
   ]
  },
  {
   "cell_type": "markdown",
   "metadata": {},
   "source": [
    "Let's look into the descriptive statistics of the features"
   ]
  },
  {
   "cell_type": "code",
   "execution_count": 84,
   "metadata": {},
   "outputs": [
    {
     "data": {
      "text/html": [
       "<div>\n",
       "<style scoped>\n",
       "    .dataframe tbody tr th:only-of-type {\n",
       "        vertical-align: middle;\n",
       "    }\n",
       "\n",
       "    .dataframe tbody tr th {\n",
       "        vertical-align: top;\n",
       "    }\n",
       "\n",
       "    .dataframe thead th {\n",
       "        text-align: right;\n",
       "    }\n",
       "</style>\n",
       "<table border=\"1\" class=\"dataframe\">\n",
       "  <thead>\n",
       "    <tr style=\"text-align: right;\">\n",
       "      <th></th>\n",
       "      <th>Wins</th>\n",
       "      <th>Runs</th>\n",
       "      <th>At Bats</th>\n",
       "      <th>Hits</th>\n",
       "      <th>Doubles</th>\n",
       "      <th>Triples</th>\n",
       "      <th>Homeruns</th>\n",
       "      <th>Walks</th>\n",
       "      <th>Strikeouts</th>\n",
       "      <th>Stolen Bases</th>\n",
       "      <th>Runs Allowed</th>\n",
       "      <th>Earned Runs</th>\n",
       "      <th>Earned Run Average</th>\n",
       "      <th>Complete Games</th>\n",
       "      <th>Shutouts</th>\n",
       "      <th>Saves</th>\n",
       "      <th>Errors</th>\n",
       "    </tr>\n",
       "  </thead>\n",
       "  <tbody>\n",
       "    <tr>\n",
       "      <th>count</th>\n",
       "      <td>30.000000</td>\n",
       "      <td>30.000000</td>\n",
       "      <td>30.000000</td>\n",
       "      <td>30.000000</td>\n",
       "      <td>30.000000</td>\n",
       "      <td>30.000000</td>\n",
       "      <td>30.000000</td>\n",
       "      <td>30.000000</td>\n",
       "      <td>30.00000</td>\n",
       "      <td>30.000000</td>\n",
       "      <td>30.000000</td>\n",
       "      <td>30.000000</td>\n",
       "      <td>30.000000</td>\n",
       "      <td>30.000000</td>\n",
       "      <td>30.000000</td>\n",
       "      <td>30.000000</td>\n",
       "      <td>30.000000</td>\n",
       "    </tr>\n",
       "    <tr>\n",
       "      <th>mean</th>\n",
       "      <td>80.966667</td>\n",
       "      <td>688.233333</td>\n",
       "      <td>5516.266667</td>\n",
       "      <td>1403.533333</td>\n",
       "      <td>274.733333</td>\n",
       "      <td>31.300000</td>\n",
       "      <td>163.633333</td>\n",
       "      <td>469.100000</td>\n",
       "      <td>1248.20000</td>\n",
       "      <td>83.500000</td>\n",
       "      <td>688.233333</td>\n",
       "      <td>635.833333</td>\n",
       "      <td>3.956333</td>\n",
       "      <td>3.466667</td>\n",
       "      <td>11.300000</td>\n",
       "      <td>43.066667</td>\n",
       "      <td>94.333333</td>\n",
       "    </tr>\n",
       "    <tr>\n",
       "      <th>std</th>\n",
       "      <td>10.453455</td>\n",
       "      <td>58.761754</td>\n",
       "      <td>70.467372</td>\n",
       "      <td>57.140923</td>\n",
       "      <td>18.095405</td>\n",
       "      <td>10.452355</td>\n",
       "      <td>31.823309</td>\n",
       "      <td>57.053725</td>\n",
       "      <td>103.75947</td>\n",
       "      <td>22.815225</td>\n",
       "      <td>72.108005</td>\n",
       "      <td>70.140786</td>\n",
       "      <td>0.454089</td>\n",
       "      <td>2.763473</td>\n",
       "      <td>4.120177</td>\n",
       "      <td>7.869335</td>\n",
       "      <td>13.958889</td>\n",
       "    </tr>\n",
       "    <tr>\n",
       "      <th>min</th>\n",
       "      <td>63.000000</td>\n",
       "      <td>573.000000</td>\n",
       "      <td>5385.000000</td>\n",
       "      <td>1324.000000</td>\n",
       "      <td>236.000000</td>\n",
       "      <td>13.000000</td>\n",
       "      <td>100.000000</td>\n",
       "      <td>375.000000</td>\n",
       "      <td>973.00000</td>\n",
       "      <td>44.000000</td>\n",
       "      <td>525.000000</td>\n",
       "      <td>478.000000</td>\n",
       "      <td>2.940000</td>\n",
       "      <td>0.000000</td>\n",
       "      <td>4.000000</td>\n",
       "      <td>28.000000</td>\n",
       "      <td>75.000000</td>\n",
       "    </tr>\n",
       "    <tr>\n",
       "      <th>25%</th>\n",
       "      <td>74.000000</td>\n",
       "      <td>651.250000</td>\n",
       "      <td>5464.000000</td>\n",
       "      <td>1363.000000</td>\n",
       "      <td>262.250000</td>\n",
       "      <td>23.000000</td>\n",
       "      <td>140.250000</td>\n",
       "      <td>428.250000</td>\n",
       "      <td>1157.50000</td>\n",
       "      <td>69.000000</td>\n",
       "      <td>636.250000</td>\n",
       "      <td>587.250000</td>\n",
       "      <td>3.682500</td>\n",
       "      <td>1.000000</td>\n",
       "      <td>9.000000</td>\n",
       "      <td>37.250000</td>\n",
       "      <td>86.000000</td>\n",
       "    </tr>\n",
       "    <tr>\n",
       "      <th>50%</th>\n",
       "      <td>81.000000</td>\n",
       "      <td>689.000000</td>\n",
       "      <td>5510.000000</td>\n",
       "      <td>1382.500000</td>\n",
       "      <td>275.500000</td>\n",
       "      <td>31.000000</td>\n",
       "      <td>158.500000</td>\n",
       "      <td>473.000000</td>\n",
       "      <td>1261.50000</td>\n",
       "      <td>83.500000</td>\n",
       "      <td>695.500000</td>\n",
       "      <td>644.500000</td>\n",
       "      <td>4.025000</td>\n",
       "      <td>3.000000</td>\n",
       "      <td>12.000000</td>\n",
       "      <td>42.000000</td>\n",
       "      <td>91.000000</td>\n",
       "    </tr>\n",
       "    <tr>\n",
       "      <th>75%</th>\n",
       "      <td>87.750000</td>\n",
       "      <td>718.250000</td>\n",
       "      <td>5570.000000</td>\n",
       "      <td>1451.500000</td>\n",
       "      <td>288.750000</td>\n",
       "      <td>39.000000</td>\n",
       "      <td>177.000000</td>\n",
       "      <td>501.250000</td>\n",
       "      <td>1311.50000</td>\n",
       "      <td>96.500000</td>\n",
       "      <td>732.500000</td>\n",
       "      <td>679.250000</td>\n",
       "      <td>4.220000</td>\n",
       "      <td>5.750000</td>\n",
       "      <td>13.000000</td>\n",
       "      <td>46.750000</td>\n",
       "      <td>96.750000</td>\n",
       "    </tr>\n",
       "    <tr>\n",
       "      <th>max</th>\n",
       "      <td>100.000000</td>\n",
       "      <td>891.000000</td>\n",
       "      <td>5649.000000</td>\n",
       "      <td>1515.000000</td>\n",
       "      <td>308.000000</td>\n",
       "      <td>49.000000</td>\n",
       "      <td>232.000000</td>\n",
       "      <td>570.000000</td>\n",
       "      <td>1518.00000</td>\n",
       "      <td>134.000000</td>\n",
       "      <td>844.000000</td>\n",
       "      <td>799.000000</td>\n",
       "      <td>5.040000</td>\n",
       "      <td>11.000000</td>\n",
       "      <td>21.000000</td>\n",
       "      <td>62.000000</td>\n",
       "      <td>126.000000</td>\n",
       "    </tr>\n",
       "  </tbody>\n",
       "</table>\n",
       "</div>"
      ],
      "text/plain": [
       "             Wins        Runs      At Bats         Hits     Doubles  \\\n",
       "count   30.000000   30.000000    30.000000    30.000000   30.000000   \n",
       "mean    80.966667  688.233333  5516.266667  1403.533333  274.733333   \n",
       "std     10.453455   58.761754    70.467372    57.140923   18.095405   \n",
       "min     63.000000  573.000000  5385.000000  1324.000000  236.000000   \n",
       "25%     74.000000  651.250000  5464.000000  1363.000000  262.250000   \n",
       "50%     81.000000  689.000000  5510.000000  1382.500000  275.500000   \n",
       "75%     87.750000  718.250000  5570.000000  1451.500000  288.750000   \n",
       "max    100.000000  891.000000  5649.000000  1515.000000  308.000000   \n",
       "\n",
       "         Triples    Homeruns       Walks  Strikeouts  Stolen Bases  \\\n",
       "count  30.000000   30.000000   30.000000    30.00000     30.000000   \n",
       "mean   31.300000  163.633333  469.100000  1248.20000     83.500000   \n",
       "std    10.452355   31.823309   57.053725   103.75947     22.815225   \n",
       "min    13.000000  100.000000  375.000000   973.00000     44.000000   \n",
       "25%    23.000000  140.250000  428.250000  1157.50000     69.000000   \n",
       "50%    31.000000  158.500000  473.000000  1261.50000     83.500000   \n",
       "75%    39.000000  177.000000  501.250000  1311.50000     96.500000   \n",
       "max    49.000000  232.000000  570.000000  1518.00000    134.000000   \n",
       "\n",
       "       Runs Allowed  Earned Runs  Earned Run Average  Complete Games  \\\n",
       "count     30.000000    30.000000           30.000000       30.000000   \n",
       "mean     688.233333   635.833333            3.956333        3.466667   \n",
       "std       72.108005    70.140786            0.454089        2.763473   \n",
       "min      525.000000   478.000000            2.940000        0.000000   \n",
       "25%      636.250000   587.250000            3.682500        1.000000   \n",
       "50%      695.500000   644.500000            4.025000        3.000000   \n",
       "75%      732.500000   679.250000            4.220000        5.750000   \n",
       "max      844.000000   799.000000            5.040000       11.000000   \n",
       "\n",
       "        Shutouts      Saves      Errors  \n",
       "count  30.000000  30.000000   30.000000  \n",
       "mean   11.300000  43.066667   94.333333  \n",
       "std     4.120177   7.869335   13.958889  \n",
       "min     4.000000  28.000000   75.000000  \n",
       "25%     9.000000  37.250000   86.000000  \n",
       "50%    12.000000  42.000000   91.000000  \n",
       "75%    13.000000  46.750000   96.750000  \n",
       "max    21.000000  62.000000  126.000000  "
      ]
     },
     "execution_count": 84,
     "metadata": {},
     "output_type": "execute_result"
    }
   ],
   "source": [
    "df.describe()"
   ]
  },
  {
   "cell_type": "markdown",
   "metadata": {},
   "source": [
    "Let's split the dataframe into input and output features for the model"
   ]
  },
  {
   "cell_type": "code",
   "execution_count": 85,
   "metadata": {},
   "outputs": [],
   "source": [
    "X=df.drop(\"Wins\", axis=1)\n",
    "y=df[\"Wins\"]"
   ]
  },
  {
   "cell_type": "markdown",
   "metadata": {},
   "source": [
    "Let's scale the data using StandardScaler"
   ]
  },
  {
   "cell_type": "code",
   "execution_count": 86,
   "metadata": {},
   "outputs": [
    {
     "data": {
      "text/plain": [
       "array([[ 0.61907797,  0.84773126,  1.66368512,  1.42017307,  1.04119304,\n",
       "        -0.7872986 , -1.53490242, -2.69762957,  0.91388329, -0.66623393,\n",
       "        -0.50511008, -0.50695519, -0.5398062 , -0.81462859,  1.67160651,\n",
       "        -0.46146963],\n",
       "       [ 0.13443166, -0.71109353, -0.97068076,  0.12740339,  1.23580856,\n",
       "        -0.24396668, -0.5365919 ,  0.15487844, -0.60182558,  0.16597077,\n",
       "         0.24892985,  0.25459752, -0.5398062 ,  0.1728    ,  0.24987932,\n",
       "        -0.60719689],\n",
       "       [-0.33290586, -1.1152333 , -0.15189137,  1.58879521, -0.22380785,\n",
       "        -0.7233772 ,  1.13914361, -0.89398189,  0.11144918, -0.68033909,\n",
       "        -0.75162313, -0.64134684,  2.77264091, -0.32091429, -0.65485616,\n",
       "        -1.11724227],\n",
       "       [-1.14641931,  0.24152162, -0.40108814, -0.82812203, -0.41842337,\n",
       "        -0.8831807 , -1.16053598, -0.16860185, -0.69098493,  0.18007593,\n",
       "         0.10392217,  0.05301004,  1.3004422 , -0.56777144, -0.78410408,\n",
       "         0.48575751],\n",
       "       [ 0.01327008,  1.28073815,  1.98408098,  0.80189192,  1.72234737,\n",
       "        -0.40377019, -0.25136033,  0.10586628, -0.02228984,  1.61880269,\n",
       "         1.59750126,  1.53131824,  1.3004422 ,  0.1728    , -1.04259994,\n",
       "        -0.60719689],\n",
       "       [ 3.50964704, -0.10488389,  1.36108904,  1.86983209, -1.39150098,\n",
       "         2.18504658,  1.79874163, -0.95279649,  0.20060853, -0.25718416,\n",
       "        -0.38910394, -0.35016492,  1.3004422 , -0.32091429, -1.17184786,\n",
       "        -0.46146963],\n",
       "       [ 1.31142984,  0.73226276, -0.11629183, -0.1536335 , -1.19688546,\n",
       "         1.54583256,  1.51351006, -0.20781158, -0.91388329,  0.13776044,\n",
       "         0.23442908,  0.16500309, -0.17175652, -1.80205719,  0.6376231 ,\n",
       "        -0.0971515 ],\n",
       "       [ 0.4286812 , -0.4512894 , -0.5968856 , -1.61502532, -1.0995777 ,\n",
       "         1.70563607, -0.91095835,  0.81164146, -1.76089707,  0.06723462,\n",
       "         0.14742447,  0.20980031, -1.27590555, -0.32091429, -0.00861653,\n",
       "        -1.26296953],\n",
       "       [-0.76562578, -0.4512894 , -0.3654886 ,  0.18361077,  0.06811543,\n",
       "         0.10760103, -0.59007283,  0.60579036,  0.15602885, -0.65212876,\n",
       "        -0.46160778, -0.48455658, -0.90785587,  0.1728    ,  2.18859821,\n",
       "         0.04857575],\n",
       "       [ 1.03448909,  1.78591286,  1.62808558,  1.08292881,  0.16542319,\n",
       "        -0.08416318,  0.15866006, -0.98220379, -0.55724591,  0.91354447,\n",
       "         0.84346133,  0.79216414, -0.17175652, -0.32091429, -0.39636031,\n",
       "         0.194303  ],\n",
       "       [ 1.08641548, -0.07601676,  0.2753031 ,  0.23981814,  0.06811543,\n",
       "         0.26740453,  0.6043344 , -0.14899698,  0.78014427,  0.63144119,\n",
       "         0.64045058,  0.63537388,  0.56434284, -0.56777144,  0.24987932,\n",
       "         1.79730279],\n",
       "       [ 0.70562195, -0.82656204, -0.72148399,  0.18361077, -0.51573113,\n",
       "         2.12112518,  0.30127585,  1.40958987,  1.67173773, -0.99065271,\n",
       "        -0.92563235, -0.86533293,  0.56434284,  0.41965715, -0.52560823,\n",
       "        -0.68006051],\n",
       "       [-0.47137623, -1.43277168, -1.29107662, -1.78364745, -1.00226994,\n",
       "         0.39524733, -0.6078998 , -0.96259892, -1.40425969, -0.18665834,\n",
       "        -0.08458781, -0.03658439, -0.5398062 ,  0.1728    ,  0.37912725,\n",
       "        -0.0971515 ],\n",
       "       [-0.55792022,  0.40029081, -0.43668768, -0.71570727, -0.90496218,\n",
       "         1.09838275,  0.15866006,  0.86065362, -0.64640525,  0.53270504,\n",
       "         0.59694828,  0.45618501,  0.93239252,  0.1728    ,  0.24987932,\n",
       "        -0.02428788],\n",
       "       [ 0.09981406,  1.20857034,  0.02610633,  0.12740339,  1.43042408,\n",
       "        -0.56357369,  0.10517914, -1.26647435, -0.2451882 ,  0.57502053,\n",
       "         0.40843829,  0.41138779,  0.56434284,  0.91337145, -1.94733542,\n",
       "         2.30734817],\n",
       "       [-0.71369939, -0.46572296, -0.31208929,  0.74568454,  0.74926976,\n",
       "        -0.85122   ,  0.65781532,  0.18428574, -0.64640525, -2.30243298,\n",
       "        -2.28870452, -2.2764453 , -0.90785587,  0.91337145,  2.44709406,\n",
       "         0.12143938],\n",
       "       [ 0.15174045,  1.65601079,  1.04069319,  0.97051405, -0.41842337,\n",
       "        -0.7553379 , -0.14439849,  0.72341956,  0.64640525, -1.30096632,\n",
       "        -1.50566306, -1.67168286, -1.27590555,  0.41965715,  1.41311066,\n",
       "         2.01589367],\n",
       "       [ 0.01327008, -0.36468802, -1.11307892, -0.1536335 , -0.12650009,\n",
       "         0.23544383,  1.74526071,  2.64469643,  0.51266624, -1.13170435,\n",
       "        -1.30265231, -1.33570372,  0.93239252,  2.39451435,  0.6376231 ,\n",
       "         1.21439378],\n",
       "       [-0.57522902, -0.52345722, -0.45448745, -0.04121874,  0.26273095,\n",
       "        -0.59553439, -1.01792019,  0.4979636 ,  0.02228984,  0.68786185,\n",
       "         0.66945211,  0.72496831, -0.90785587, -1.06148574, -0.39636031,\n",
       "         1.57871191],\n",
       "       [-0.83486097,  0.78999701, -0.38328837, -0.99674416, -0.41842337,\n",
       "         0.10760103,  0.47954559,  0.06665654,  2.25127347,  0.92764964,\n",
       "         0.93046594,  0.83696136, -0.5398062 , -0.81462859, -1.04259994,\n",
       "        -0.31574238],\n",
       "       [-0.0905827 ,  0.15492024, -0.93508123,  1.13913619, -1.39150098,\n",
       "         0.42720803,  0.3369298 ,  0.4097417 , -1.44883936, -1.06117853,\n",
       "        -1.14314386, -1.17891346, -0.90785587,  0.6665143 ,  0.89611895,\n",
       "        -0.46146963],\n",
       "       [ 0.25559323, -1.27400249, -0.72148399, -0.54708514, -1.78073202,\n",
       "         0.42720803,  1.24610545,  0.93907309, -1.18136133, -0.75086491,\n",
       "        -0.85312851, -0.75333989,  0.19629316,  0.41965715, -0.26711238,\n",
       "        -0.31574238],\n",
       "       [-1.30219848, -0.76882779,  0.29310287, -2.17709909,  0.84657752,\n",
       "        -1.39455191, -1.67751821, -0.96259892,  1.27052067, -0.14434285,\n",
       "         0.03141833,  0.14260448, -1.27590555,  0.1728    , -1.04259994,\n",
       "        -1.26296953],\n",
       "       [-1.99455036, -1.38947099, -0.75708353, -1.33398843, -1.29419322,\n",
       "        -2.03376593,  0.03387125, -1.38410355, -0.64640525,  1.01228062,\n",
       "         0.9014644 ,  1.01615023, -0.17175652, -0.32091429,  0.1206314 ,\n",
       "        -0.31574238],\n",
       "       [-1.07718413,  0.18378737, -0.52568653, -0.1536335 ,  0.55465424,\n",
       "        -1.07494491, -1.46359453,  0.25290277,  0.20060853,  1.70343367,\n",
       "         1.64100356,  1.64331129, -0.90785587, -1.06148574, -1.04259994,\n",
       "         1.65157553],\n",
       "       [-0.36752345, -1.8946457 , -1.02408007, -0.6594999 , -0.51573113,\n",
       "         0.74681504,  1.67395282,  0.09606384, -1.09220198, -1.31507148,\n",
       "        -1.20114693, -1.15651485,  0.93239252,  2.39451435,  0.50837518,\n",
       "        -1.40869678],\n",
       "       [ 0.13443166,  0.70339563,  1.46788766,  0.74568454,  0.74926976,\n",
       "        -0.8831807 , -0.21570638, -0.87437703,  0.42350689, -0.86370623,\n",
       "        -0.56311315, -0.52935379,  1.3004422 ,  1.6539429 , -0.26711238,\n",
       "        -1.1901059 ],\n",
       "       [ 0.54984278,  1.91581492,  1.61028582,  0.80189192,  1.6250396 ,\n",
       "        -0.30788808,  0.37258375,  0.62539523,  2.16211413,  0.3493379 ,\n",
       "         0.33593445,  0.1874017 , -0.90785587,  0.1728    ,  0.1206314 ,\n",
       "        -0.60719689],\n",
       "       [-0.661773  , -0.85542916, -1.415675  , -0.82812203,  0.45734648,\n",
       "        -0.49965229, -0.76834256,  0.77243172, -0.06686951,  0.60323086,\n",
       "         0.27793138,  0.29939474, -0.90785587, -1.30834289, -0.26711238,\n",
       "        -0.17001513],\n",
       "       [ 0.84409233,  0.80443057,  1.34328927, -0.04121874,  1.72234737,\n",
       "         0.71485434, -1.44576756,  0.34112467,  0.60182558,  2.19711442,\n",
       "         2.36604195,  2.42726261,  0.19629316, -1.80205719, -0.91335201,\n",
       "         0.04857575]])"
      ]
     },
     "execution_count": 86,
     "metadata": {},
     "output_type": "execute_result"
    }
   ],
   "source": [
    "from sklearn.preprocessing import StandardScaler\n",
    "X2 = StandardScaler().fit_transform(X)\n",
    "X2"
   ]
  },
  {
   "cell_type": "markdown",
   "metadata": {},
   "source": [
    "Let's do Principal Component Analysis (PCA) for the input features"
   ]
  },
  {
   "cell_type": "code",
   "execution_count": 87,
   "metadata": {},
   "outputs": [
    {
     "name": "stdout",
     "output_type": "stream",
     "text": [
      "Original shape: (30, 16)\n",
      "Reduced shape: (30, 2)\n"
     ]
    }
   ],
   "source": [
    "from sklearn.decomposition import PCA\n",
    "pca = PCA(n_components=2)\n",
    "pca.fit(X2)\n",
    "X_pca = pca.transform(X2)\n",
    "print(\"Original shape: {}\".format(str(X2.shape)))\n",
    "print(\"Reduced shape: {}\".format(str(X_pca.shape)))"
   ]
  },
  {
   "cell_type": "code",
   "execution_count": 88,
   "metadata": {},
   "outputs": [
    {
     "data": {
      "text/plain": [
       "(2, 16)"
      ]
     },
     "execution_count": 88,
     "metadata": {},
     "output_type": "execute_result"
    }
   ],
   "source": [
    "pca.components_.shape"
   ]
  },
  {
   "cell_type": "code",
   "execution_count": 89,
   "metadata": {},
   "outputs": [
    {
     "data": {
      "text/plain": [
       "array([[-0.01316791,  0.22815101,  0.21109923, -0.03519152,  0.2512208 ,\n",
       "        -0.1262697 , -0.2744095 , -0.14029145,  0.15367061,  0.42087297,\n",
       "         0.42404197,  0.42074408, -0.0438515 , -0.30125696, -0.26088595,\n",
       "         0.09802103],\n",
       "       [ 0.44530434,  0.35585435,  0.44360489,  0.49677774,  0.14174824,\n",
       "         0.15088921,  0.22809838, -0.09026753,  0.21458236, -0.0924855 ,\n",
       "        -0.09156957, -0.10692921,  0.22240696,  0.06579767,  0.00120383,\n",
       "         0.01573034]])"
      ]
     },
     "execution_count": 89,
     "metadata": {},
     "output_type": "execute_result"
    }
   ],
   "source": [
    "pca.components_"
   ]
  },
  {
   "cell_type": "markdown",
   "metadata": {},
   "source": [
    "Let's look into break up of principal components in terms of original features using a heatmap"
   ]
  },
  {
   "cell_type": "code",
   "execution_count": 90,
   "metadata": {},
   "outputs": [
    {
     "data": {
      "text/plain": [
       "Text(0, 0.5, 'Principal components')"
      ]
     },
     "execution_count": 90,
     "metadata": {},
     "output_type": "execute_result"
    },
    {
     "data": {
      "image/png": "[encoded data removed]",
      "text/plain": [
       "<Figure size 1152x144 with 2 Axes>"
      ]
     },
     "metadata": {
      "needs_background": "light"
     },
     "output_type": "display_data"
    }
   ],
   "source": [
    "plt.matshow(pca.components_, cmap='viridis')\n",
    "plt.yticks([0, 1], [\"First component\", \"Second component\"])\n",
    "plt.colorbar()\n",
    "plt.xticks(range(len(X.columns)),\n",
    "X.columns, rotation=60, ha='left')\n",
    "plt.xlabel(\"Feature\")\n",
    "plt.ylabel(\"Principal components\")"
   ]
  },
  {
   "cell_type": "markdown",
   "metadata": {},
   "source": [
    "Let's find the best random state for highest accuracy in terms of R2 score"
   ]
  },
  {
   "cell_type": "code",
   "execution_count": 187,
   "metadata": {},
   "outputs": [
    {
     "name": "stdout",
     "output_type": "stream",
     "text": [
      "max R2 score corresponding to random state 72 is 0.9440890679202585\n"
     ]
    }
   ],
   "source": [
    "from sklearn.metrics import r2_score, mean_squared_error,mean_absolute_error\n",
    "from sklearn.model_selection import train_test_split\n",
    "from sklearn.linear_model import LinearRegression\n",
    "max_r2_score=0\n",
    "for r_state in range(0,200):\n",
    "    X_train,X_test,y_train,y_test = train_test_split(X_pca,y, test_size=0.25,random_state=r_state)\n",
    "    lr = LinearRegression()\n",
    "    lr.fit(X_train,y_train)\n",
    "    y_pred = lr.predict(X_test)\n",
    "    r2_scr = r2_score(y_test,y_pred)\n",
    "    if r2_scr>max_r2_score:\n",
    "        max_r2_score = r2_scr\n",
    "        final_r_state = r_state\n",
    "    \n",
    "print(\"max R2 score corresponding to random state\",final_r_state,\"is\",max_r2_score)"
   ]
  },
  {
   "cell_type": "markdown",
   "metadata": {},
   "source": [
    "Let's split the dataset into training and test sets for different models"
   ]
  },
  {
   "cell_type": "code",
   "execution_count": 188,
   "metadata": {},
   "outputs": [],
   "source": [
    "X_train,X_test,y_train,y_test = train_test_split(X_pca,y, test_size=0.25,random_state=72)"
   ]
  },
  {
   "cell_type": "code",
   "execution_count": 189,
   "metadata": {},
   "outputs": [
    {
     "name": "stdout",
     "output_type": "stream",
     "text": [
      "(22, 2) \n",
      " (8, 2)\n"
     ]
    }
   ],
   "source": [
    "print(X_train.shape,\"\\n\",X_test.shape)"
   ]
  },
  {
   "cell_type": "code",
   "execution_count": 190,
   "metadata": {},
   "outputs": [],
   "source": [
    "from sklearn.linear_model import Ridge,Lasso\n",
    "from sklearn.neighbors import KNeighborsRegressor\n",
    "from sklearn.svm import SVR\n",
    "from sklearn.tree import DecisionTreeRegressor\n",
    "from sklearn.ensemble import RandomForestRegressor\n",
    "from sklearn.ensemble import AdaBoostRegressor\n",
    "from sklearn.ensemble import GradientBoostingRegressor\n",
    "import xgboost as xgb"
   ]
  },
  {
   "cell_type": "code",
   "execution_count": 191,
   "metadata": {},
   "outputs": [],
   "source": [
    "LR = LinearRegression()\n",
    "RR = Ridge()#alpha=41\n",
    "LSR = Lasso()\n",
    "KNR = KNeighborsRegressor()#(n_neighbors=2)\n",
    "SV = SVR()\n",
    "DTC = DecisionTreeRegressor()\n",
    "RFC = RandomForestRegressor()\n",
    "ABC = AdaBoostRegressor()#(n_estimators=100,base_estimator=SV,algorithm='SAMME')\n",
    "GBC = GradientBoostingRegressor()\n",
    "XGB = xgb.XGBRegressor()"
   ]
  },
  {
   "cell_type": "code",
   "execution_count": 192,
   "metadata": {},
   "outputs": [],
   "source": [
    "models = []\n",
    "models.append((\"LinearRegression\", LR))\n",
    "models.append((\"Ridge\", RR))\n",
    "models.append((\"Lasso\", LSR))\n",
    "models.append((\"KNeighborsRegressor\", KNR))\n",
    "models.append((\"SVR\", SV))\n",
    "models.append((\"DecisionTreeRegressor\", DTC))\n",
    "models.append((\"RandomForestRegressor\", RFC))\n",
    "models.append((\"AdaBoostRegressor\", ABC))\n",
    "models.append((\"GradientBoostingRegressor\", GBC))\n",
    "models.append((\"XGBoostRegressor\", XGB))"
   ]
  },
  {
   "cell_type": "code",
   "execution_count": 193,
   "metadata": {},
   "outputs": [],
   "source": [
    "from sklearn.model_selection import cross_val_score\n",
    "from sklearn.model_selection import KFold\n",
    "kf = KFold(n_splits=4, random_state=29, shuffle=True)"
   ]
  },
  {
   "cell_type": "code",
   "execution_count": 194,
   "metadata": {},
   "outputs": [
    {
     "name": "stdout",
     "output_type": "stream",
     "text": [
      "***************** LinearRegression ******************\n",
      "\n",
      "LinearRegression(copy_X=True, fit_intercept=True, n_jobs=None, normalize=False)\n",
      "\n",
      "\n",
      "R2 Score =  0.9440890679202585\n",
      "\n",
      "\n",
      "Cross val score =  0.6488012585393677\n",
      "\n",
      "\n",
      "Mean Squared error\n",
      " 3.899787512561967\n",
      "\n",
      "\n",
      "Mean absolute error \n",
      "1.672081908031405\n",
      "\n",
      "\n",
      "\n",
      "***************** Ridge ******************\n",
      "\n",
      "Ridge(alpha=1.0, copy_X=True, fit_intercept=True, max_iter=None,\n",
      "      normalize=False, random_state=None, solver='auto', tol=0.001)\n",
      "\n",
      "\n",
      "R2 Score =  0.9438121520365799\n",
      "\n",
      "\n",
      "Cross val score =  0.770523497864927\n",
      "\n",
      "\n",
      "Mean Squared error\n",
      " 3.9191023954485544\n",
      "\n",
      "\n",
      "Mean absolute error \n",
      "1.6461412052121904\n",
      "\n",
      "\n",
      "\n",
      "***************** Lasso ******************\n",
      "\n",
      "Lasso(alpha=1.0, copy_X=True, fit_intercept=True, max_iter=1000,\n",
      "      normalize=False, positive=False, precompute=False, random_state=None,\n",
      "      selection='cyclic', tol=0.0001, warm_start=False)\n",
      "\n",
      "\n",
      "R2 Score =  0.941365962845612\n",
      "\n",
      "\n",
      "Cross val score =  0.7073888519725924\n",
      "\n",
      "\n",
      "Mean Squared error\n",
      " 4.089724091518565\n",
      "\n",
      "\n",
      "Mean absolute error \n",
      "1.4684708385567937\n",
      "\n",
      "\n",
      "\n",
      "***************** KNeighborsRegressor ******************\n",
      "\n",
      "KNeighborsRegressor(algorithm='auto', leaf_size=30, metric='minkowski',\n",
      "                    metric_params=None, n_jobs=None, n_neighbors=5, p=2,\n",
      "                    weights='uniform')\n",
      "\n",
      "\n",
      "R2 Score =  0.7448745519713267\n",
      "\n",
      "\n",
      "Cross val score =  0.3632596199046909\n",
      "\n",
      "\n",
      "Mean Squared error\n",
      " 17.79499999999997\n",
      "\n",
      "\n",
      "Mean absolute error \n",
      "3.274999999999997\n",
      "\n",
      "\n",
      "\n",
      "***************** SVR ******************\n",
      "\n",
      "SVR(C=1.0, cache_size=200, coef0=0.0, degree=3, epsilon=0.1, gamma='scale',\n",
      "    kernel='rbf', max_iter=-1, shrinking=True, tol=0.001, verbose=False)\n",
      "\n",
      "\n",
      "R2 Score =  0.3234753034658163\n",
      "\n",
      "\n",
      "Cross val score =  -0.020625693917403876\n",
      "\n",
      "\n",
      "Mean Squared error\n",
      " 47.18759758325931\n",
      "\n",
      "\n",
      "Mean absolute error \n",
      "6.1488290206163185\n",
      "\n",
      "\n",
      "\n",
      "***************** DecisionTreeRegressor ******************\n",
      "\n",
      "DecisionTreeRegressor(ccp_alpha=0.0, criterion='mse', max_depth=None,\n",
      "                      max_features=None, max_leaf_nodes=None,\n",
      "                      min_impurity_decrease=0.0, min_impurity_split=None,\n",
      "                      min_samples_leaf=1, min_samples_split=2,\n",
      "                      min_weight_fraction_leaf=0.0, presort='deprecated',\n",
      "                      random_state=None, splitter='best')\n",
      "\n",
      "\n",
      "R2 Score =  0.30645161290322576\n",
      "\n",
      "\n",
      "Cross val score =  0.0796502668048959\n",
      "\n",
      "\n",
      "Mean Squared error\n",
      " 48.375\n",
      "\n",
      "\n",
      "Mean absolute error \n",
      "5.875\n",
      "\n",
      "\n",
      "\n",
      "***************** RandomForestRegressor ******************\n",
      "\n",
      "RandomForestRegressor(bootstrap=True, ccp_alpha=0.0, criterion='mse',\n",
      "                      max_depth=None, max_features='auto', max_leaf_nodes=None,\n",
      "                      max_samples=None, min_impurity_decrease=0.0,\n",
      "                      min_impurity_split=None, min_samples_leaf=1,\n",
      "                      min_samples_split=2, min_weight_fraction_leaf=0.0,\n",
      "                      n_estimators=100, n_jobs=None, oob_score=False,\n",
      "                      random_state=None, verbose=0, warm_start=False)\n",
      "\n",
      "\n",
      "R2 Score =  0.8400645161290321\n",
      "\n",
      "\n",
      "Cross val score =  0.579500515126403\n",
      "\n",
      "\n",
      "Mean Squared error\n",
      " 11.155500000000012\n",
      "\n",
      "\n",
      "Mean absolute error \n",
      "2.7125000000000004\n",
      "\n",
      "\n",
      "\n",
      "***************** AdaBoostRegressor ******************\n",
      "\n",
      "AdaBoostRegressor(base_estimator=None, learning_rate=1.0, loss='linear',\n",
      "                  n_estimators=50, random_state=None)\n",
      "\n",
      "\n",
      "R2 Score =  0.8293278325368378\n",
      "\n",
      "\n",
      "Cross val score =  0.5258284453300224\n",
      "\n",
      "\n",
      "Mean Squared error\n",
      " 11.90438368055556\n",
      "\n",
      "\n",
      "Mean absolute error \n",
      "2.913541666666667\n",
      "\n",
      "\n",
      "\n",
      "***************** GradientBoostingRegressor ******************\n",
      "\n",
      "GradientBoostingRegressor(alpha=0.9, ccp_alpha=0.0, criterion='friedman_mse',\n",
      "                          init=None, learning_rate=0.1, loss='ls', max_depth=3,\n",
      "                          max_features=None, max_leaf_nodes=None,\n",
      "                          min_impurity_decrease=0.0, min_impurity_split=None,\n",
      "                          min_samples_leaf=1, min_samples_split=2,\n",
      "                          min_weight_fraction_leaf=0.0, n_estimators=100,\n",
      "                          n_iter_no_change=None, presort='deprecated',\n",
      "                          random_state=None, subsample=1.0, tol=0.0001,\n",
      "                          validation_fraction=0.1, verbose=0, warm_start=False)\n",
      "\n",
      "\n",
      "R2 Score =  0.6318567306384295\n",
      "\n",
      "\n",
      "Cross val score =  0.3096664195223516\n",
      "\n",
      "\n",
      "Mean Squared error\n",
      " 25.677993037969543\n",
      "\n",
      "\n",
      "Mean absolute error \n",
      "4.43347049305142\n",
      "\n",
      "\n",
      "\n",
      "***************** XGBoostRegressor ******************\n",
      "\n",
      "XGBRegressor(base_score=0.5, booster='gbtree', colsample_bylevel=1,\n",
      "             colsample_bynode=1, colsample_bytree=1, gamma=0, gpu_id=-1,\n",
      "             importance_type='gain', interaction_constraints='',\n",
      "             learning_rate=0.300000012, max_delta_step=0, max_depth=6,\n",
      "             min_child_weight=1, missing=nan, monotone_constraints='()',\n",
      "             n_estimators=100, n_jobs=0, num_parallel_tree=1,\n",
      "             objective='reg:squarederror', random_state=0, reg_alpha=0,\n",
      "             reg_lambda=1, scale_pos_weight=1, subsample=1, tree_method='exact',\n",
      "             validate_parameters=1, verbosity=None)\n",
      "\n",
      "\n",
      "R2 Score =  0.7863812608619122\n",
      "\n",
      "\n",
      "Cross val score =  0.5113355158213985\n",
      "\n",
      "\n",
      "Mean Squared error\n",
      " 14.899907054881623\n",
      "\n",
      "\n",
      "Mean absolute error \n",
      "2.956793785095215\n",
      "\n",
      "\n",
      "\n"
     ]
    }
   ],
   "source": [
    "Model = []\n",
    "score = []\n",
    "cvs = []\n",
    "MSE = []\n",
    "MAE = []\n",
    "for name,model in models:\n",
    "    print(\"*****************\",name,\"******************\\n\")\n",
    "    Model.append(name)\n",
    "    model.fit(X_train,y_train)\n",
    "    print(model)\n",
    "    pre = model.predict(X_test)\n",
    "    print(\"\\n\")\n",
    "    R2 = r2_score(y_test,pre)\n",
    "    print(\"R2 Score = \",R2)\n",
    "    score.append(R2)\n",
    "    print(\"\\n\")\n",
    "    sc = cross_val_score(model,X,y,cv=kf,scoring=\"r2\").mean()\n",
    "    print(\"Cross val score = \",sc)\n",
    "    cvs.append(sc)\n",
    "    print(\"\\n\")\n",
    "    mse = mean_squared_error(y_test,pre)\n",
    "    print(\"Mean Squared error\\n\", mse)\n",
    "    MSE.append(mse)\n",
    "    print(\"\\n\")\n",
    "    mae = mean_absolute_error(y_test,pre)\n",
    "    print(\"Mean absolute error \\n{}\".format(mae))\n",
    "    MAE.append(mae)\n",
    "    print(\"\\n\\n\")"
   ]
  },
  {
   "cell_type": "code",
   "execution_count": 195,
   "metadata": {},
   "outputs": [
    {
     "data": {
      "text/html": [
       "<div>\n",
       "<style scoped>\n",
       "    .dataframe tbody tr th:only-of-type {\n",
       "        vertical-align: middle;\n",
       "    }\n",
       "\n",
       "    .dataframe tbody tr th {\n",
       "        vertical-align: top;\n",
       "    }\n",
       "\n",
       "    .dataframe thead th {\n",
       "        text-align: right;\n",
       "    }\n",
       "</style>\n",
       "<table border=\"1\" class=\"dataframe\">\n",
       "  <thead>\n",
       "    <tr style=\"text-align: right;\">\n",
       "      <th></th>\n",
       "      <th>Model</th>\n",
       "      <th>R2 Socre</th>\n",
       "      <th>Cross val score</th>\n",
       "      <th>Mean Squared Error</th>\n",
       "      <th>Mean Absolute Error</th>\n",
       "    </tr>\n",
       "  </thead>\n",
       "  <tbody>\n",
       "    <tr>\n",
       "      <th>0</th>\n",
       "      <td>LinearRegression</td>\n",
       "      <td>0.944089</td>\n",
       "      <td>0.648801</td>\n",
       "      <td>3.899788</td>\n",
       "      <td>1.672082</td>\n",
       "    </tr>\n",
       "    <tr>\n",
       "      <th>1</th>\n",
       "      <td>Ridge</td>\n",
       "      <td>0.943812</td>\n",
       "      <td>0.770523</td>\n",
       "      <td>3.919102</td>\n",
       "      <td>1.646141</td>\n",
       "    </tr>\n",
       "    <tr>\n",
       "      <th>2</th>\n",
       "      <td>Lasso</td>\n",
       "      <td>0.941366</td>\n",
       "      <td>0.707389</td>\n",
       "      <td>4.089724</td>\n",
       "      <td>1.468471</td>\n",
       "    </tr>\n",
       "    <tr>\n",
       "      <th>3</th>\n",
       "      <td>KNeighborsRegressor</td>\n",
       "      <td>0.744875</td>\n",
       "      <td>0.363260</td>\n",
       "      <td>17.795000</td>\n",
       "      <td>3.275000</td>\n",
       "    </tr>\n",
       "    <tr>\n",
       "      <th>4</th>\n",
       "      <td>SVR</td>\n",
       "      <td>0.323475</td>\n",
       "      <td>-0.020626</td>\n",
       "      <td>47.187598</td>\n",
       "      <td>6.148829</td>\n",
       "    </tr>\n",
       "    <tr>\n",
       "      <th>5</th>\n",
       "      <td>DecisionTreeRegressor</td>\n",
       "      <td>0.306452</td>\n",
       "      <td>0.079650</td>\n",
       "      <td>48.375000</td>\n",
       "      <td>5.875000</td>\n",
       "    </tr>\n",
       "    <tr>\n",
       "      <th>6</th>\n",
       "      <td>RandomForestRegressor</td>\n",
       "      <td>0.840065</td>\n",
       "      <td>0.579501</td>\n",
       "      <td>11.155500</td>\n",
       "      <td>2.712500</td>\n",
       "    </tr>\n",
       "    <tr>\n",
       "      <th>7</th>\n",
       "      <td>AdaBoostRegressor</td>\n",
       "      <td>0.829328</td>\n",
       "      <td>0.525828</td>\n",
       "      <td>11.904384</td>\n",
       "      <td>2.913542</td>\n",
       "    </tr>\n",
       "    <tr>\n",
       "      <th>8</th>\n",
       "      <td>GradientBoostingRegressor</td>\n",
       "      <td>0.631857</td>\n",
       "      <td>0.309666</td>\n",
       "      <td>25.677993</td>\n",
       "      <td>4.433470</td>\n",
       "    </tr>\n",
       "    <tr>\n",
       "      <th>9</th>\n",
       "      <td>XGBoostRegressor</td>\n",
       "      <td>0.786381</td>\n",
       "      <td>0.511336</td>\n",
       "      <td>14.899907</td>\n",
       "      <td>2.956794</td>\n",
       "    </tr>\n",
       "  </tbody>\n",
       "</table>\n",
       "</div>"
      ],
      "text/plain": [
       "                       Model  R2 Socre  Cross val score  Mean Squared Error  \\\n",
       "0           LinearRegression  0.944089         0.648801            3.899788   \n",
       "1                      Ridge  0.943812         0.770523            3.919102   \n",
       "2                      Lasso  0.941366         0.707389            4.089724   \n",
       "3        KNeighborsRegressor  0.744875         0.363260           17.795000   \n",
       "4                        SVR  0.323475        -0.020626           47.187598   \n",
       "5      DecisionTreeRegressor  0.306452         0.079650           48.375000   \n",
       "6      RandomForestRegressor  0.840065         0.579501           11.155500   \n",
       "7          AdaBoostRegressor  0.829328         0.525828           11.904384   \n",
       "8  GradientBoostingRegressor  0.631857         0.309666           25.677993   \n",
       "9           XGBoostRegressor  0.786381         0.511336           14.899907   \n",
       "\n",
       "   Mean Absolute Error  \n",
       "0             1.672082  \n",
       "1             1.646141  \n",
       "2             1.468471  \n",
       "3             3.275000  \n",
       "4             6.148829  \n",
       "5             5.875000  \n",
       "6             2.712500  \n",
       "7             2.913542  \n",
       "8             4.433470  \n",
       "9             2.956794  "
      ]
     },
     "execution_count": 195,
     "metadata": {},
     "output_type": "execute_result"
    }
   ],
   "source": [
    "result = pd.DataFrame({\"Model\": Model, \"R2 Socre\": score, \"Cross val score\": cvs, \"Mean Squared Error\": MSE, \"Mean Absolute Error\": MAE})\n",
    "result"
   ]
  },
  {
   "cell_type": "markdown",
   "metadata": {},
   "source": [
    "Linear Regression models give the best resuls on this dataset, Ridge regression has the best generalization performance as confirmed by cross validation score"
   ]
  },
  {
   "cell_type": "markdown",
   "metadata": {},
   "source": [
    "Let's find the best parameters for the Ridge Regressor"
   ]
  },
  {
   "cell_type": "code",
   "execution_count": 196,
   "metadata": {},
   "outputs": [
    {
     "name": "stdout",
     "output_type": "stream",
     "text": [
      "GridSearchCV(cv=None, error_score=nan,\n",
      "             estimator=Ridge(alpha=1.0, copy_X=True, fit_intercept=True,\n",
      "                             max_iter=None, normalize=False, random_state=None,\n",
      "                             solver='auto', tol=0.001),\n",
      "             iid='deprecated', n_jobs=None, param_grid={'alpha': [30, 41, 50]},\n",
      "             pre_dispatch='2*n_jobs', refit=True, return_train_score=False,\n",
      "             scoring=None, verbose=0)\n",
      "-0.0889916677248804\n",
      "41\n",
      "{'alpha': 41}\n"
     ]
    }
   ],
   "source": [
    "from sklearn.model_selection import GridSearchCV\n",
    "parameters = {\n",
    "            'alpha': [30,41,50]\n",
    "             }\n",
    "grid = GridSearchCV(estimator=RR,param_grid=parameters)\n",
    "grid.fit(X_train,y_train)\n",
    "print(grid)\n",
    "print(grid.best_score_)\n",
    "print(grid.best_estimator_.alpha)\n",
    "print(grid.best_params_)"
   ]
  },
  {
   "cell_type": "markdown",
   "metadata": {},
   "source": [
    "Saving the model"
   ]
  },
  {
   "cell_type": "code",
   "execution_count": 197,
   "metadata": {},
   "outputs": [
    {
     "data": {
      "text/plain": [
       "['Baseball_Wins.csv']"
      ]
     },
     "execution_count": 197,
     "metadata": {},
     "output_type": "execute_result"
    }
   ],
   "source": [
    "from sklearn.externals import joblib\n",
    "joblib.dump(RR,'Baseball_Wins.csv')"
   ]
  },
  {
   "cell_type": "code",
   "execution_count": null,
   "metadata": {},
   "outputs": [],
   "source": []
  }
 ],
 "metadata": {
  "kernelspec": {
   "display_name": "Python 3",
   "language": "python",
   "name": "python3"
  },
  "language_info": {
   "codemirror_mode": {
    "name": "ipython",
    "version": 3
   },
   "file_extension": ".py",
   "mimetype": "text/x-python",
   "name": "python",
   "nbconvert_exporter": "python",
   "pygments_lexer": "ipython3",
   "version": "3.7.6"
  }
 },
 "nbformat": 4,
 "nbformat_minor": 4
}
